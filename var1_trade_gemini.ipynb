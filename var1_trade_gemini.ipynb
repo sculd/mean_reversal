{
 "cells": [
  {
   "cell_type": "markdown",
   "id": "d24616cb-6a32-4ae9-97b2-d98c82f9dee1",
   "metadata": {
    "execution": {
     "iopub.execute_input": "2023-07-04T19:56:11.175669Z",
     "iopub.status.busy": "2023-07-04T19:56:11.173828Z",
     "iopub.status.idle": "2023-07-04T19:56:11.783568Z",
     "shell.execute_reply": "2023-07-04T19:56:11.783034Z",
     "shell.execute_reply.started": "2023-07-04T19:56:11.175538Z"
    }
   },
   "source": [
    "# imports"
   ]
  },
  {
   "cell_type": "code",
   "execution_count": 5,
   "id": "e613f2a2-3723-4a81-8fa3-f2f5b6e0e95e",
   "metadata": {
    "execution": {
     "iopub.execute_input": "2023-10-27T01:59:08.609662Z",
     "iopub.status.busy": "2023-10-27T01:59:08.609326Z",
     "iopub.status.idle": "2023-10-27T01:59:08.614025Z",
     "shell.execute_reply": "2023-10-27T01:59:08.613463Z",
     "shell.execute_reply.started": "2023-10-27T01:59:08.609638Z"
    }
   },
   "outputs": [],
   "source": [
    "import datetime\n",
    "import importlib\n",
    "import pandas as pd, numpy as np\n",
    "import scipy\n",
    "import matplotlib.pyplot as plt\n",
    "from numpy_ext import rolling_apply as rolling_apply_ext\n",
    "import talib\n",
    "from talib import MA_Type\n",
    "import numpy.linalg"
   ]
  },
  {
   "cell_type": "code",
   "execution_count": 9,
   "id": "dae6e3e6-dbed-4d92-88d1-ed711411fcf4",
   "metadata": {
    "execution": {
     "iopub.execute_input": "2023-10-27T02:00:30.970105Z",
     "iopub.status.busy": "2023-10-27T02:00:30.969715Z",
     "iopub.status.idle": "2023-10-27T02:00:31.236657Z",
     "shell.execute_reply": "2023-10-27T02:00:31.235892Z",
     "shell.execute_reply.started": "2023-10-27T02:00:30.970079Z"
    }
   },
   "outputs": [
    {
     "data": {
      "text/plain": [
       "<module 'algo.data.read' from '/home/junlim/projects/mean_reversal/algo/data/read.py'>"
      ]
     },
     "execution_count": 9,
     "metadata": {},
     "output_type": "execute_result"
    }
   ],
   "source": [
    "import algo.data.read\n",
    "importlib.reload(algo.data.read)"
   ]
  },
  {
   "cell_type": "code",
   "execution_count": 7,
   "id": "e5da1293-9e32-4384-a572-875df8279122",
   "metadata": {
    "execution": {
     "iopub.execute_input": "2023-10-27T01:59:11.266707Z",
     "iopub.status.busy": "2023-10-27T01:59:11.266529Z",
     "iopub.status.idle": "2023-10-27T01:59:11.277204Z",
     "shell.execute_reply": "2023-10-27T01:59:11.276426Z",
     "shell.execute_reply.started": "2023-10-27T01:59:11.266694Z"
    }
   },
   "outputs": [
    {
     "data": {
      "text/plain": [
       "['BCH/USD',\n",
       " 'QNT/USD',\n",
       " 'AAVE/USD',\n",
       " 'LTC/USD',\n",
       " 'COMP/USD',\n",
       " 'SOL/USD',\n",
       " 'ZEC/USD',\n",
       " 'INJ/USD',\n",
       " 'LINK/USD',\n",
       " 'AVAX/USD']"
      ]
     },
     "execution_count": 7,
     "metadata": {},
     "output_type": "execute_result"
    }
   ],
   "source": [
    "symbols_pool = [s for _, s in sorted([(m, s) for s, m in algo.data.read.df_gemini_202310.mean().items() if m > 10 and m < 500], reverse=True)]\n",
    "# remove duplicates within USDT / BUSD swap\n",
    "symbols_pool = [s for s in symbols_pool if s not in [s.replace('USDT', 'BUSD') for s in symbols_pool if 'USDT' in s]]\n",
    "symbols_pool"
   ]
  },
  {
   "cell_type": "code",
   "execution_count": null,
   "id": "bec56c11-0774-4936-82a9-76f5c39bc357",
   "metadata": {},
   "outputs": [],
   "source": []
  },
  {
   "cell_type": "code",
   "execution_count": null,
   "id": "21103d7b-7201-4b80-a315-06f8b3aa8629",
   "metadata": {},
   "outputs": [],
   "source": []
  },
  {
   "cell_type": "code",
   "execution_count": null,
   "id": "6e37e542-4e92-4558-894a-f5d6b83cf61d",
   "metadata": {},
   "outputs": [],
   "source": []
  },
  {
   "cell_type": "code",
   "execution_count": null,
   "id": "09ff42ea-96ff-42c9-a0fc-7018d4893faf",
   "metadata": {},
   "outputs": [],
   "source": []
  },
  {
   "cell_type": "code",
   "execution_count": 21,
   "id": "45536c7e-89f6-4751-b769-87ce1afc0c11",
   "metadata": {
    "execution": {
     "iopub.execute_input": "2023-10-27T02:03:09.477757Z",
     "iopub.status.busy": "2023-10-27T02:03:09.477497Z",
     "iopub.status.idle": "2023-10-27T02:03:09.492979Z",
     "shell.execute_reply": "2023-10-27T02:03:09.492595Z",
     "shell.execute_reply.started": "2023-10-27T02:03:09.477742Z"
    }
   },
   "outputs": [
    {
     "data": {
      "text/html": [
       "<div>\n",
       "<style scoped>\n",
       "    .dataframe tbody tr th:only-of-type {\n",
       "        vertical-align: middle;\n",
       "    }\n",
       "\n",
       "    .dataframe tbody tr th {\n",
       "        vertical-align: top;\n",
       "    }\n",
       "\n",
       "    .dataframe thead th {\n",
       "        text-align: right;\n",
       "    }\n",
       "</style>\n",
       "<table border=\"1\" class=\"dataframe\">\n",
       "  <thead>\n",
       "    <tr style=\"text-align: right;\">\n",
       "      <th></th>\n",
       "      <th>BTC/USD</th>\n",
       "      <th>ETH/USD</th>\n",
       "      <th>ZEC/USD</th>\n",
       "      <th>BCH/USD</th>\n",
       "      <th>LTC/USD</th>\n",
       "      <th>BAT/USD</th>\n",
       "      <th>DAI/USD</th>\n",
       "      <th>LINK/USD</th>\n",
       "      <th>OXT/USD</th>\n",
       "      <th>AMP/USD</th>\n",
       "      <th>...</th>\n",
       "      <th>SAMO/USD</th>\n",
       "      <th>IMX/USD</th>\n",
       "      <th>IOTX/USD</th>\n",
       "      <th>BUSD/USD</th>\n",
       "      <th>AVAX/USD</th>\n",
       "      <th>ATOM/USD</th>\n",
       "      <th>USDT/USD</th>\n",
       "      <th>PEPE/USD</th>\n",
       "      <th>XRP/USD</th>\n",
       "      <th>HNT/USD</th>\n",
       "    </tr>\n",
       "    <tr>\n",
       "      <th>timestamp</th>\n",
       "      <th></th>\n",
       "      <th></th>\n",
       "      <th></th>\n",
       "      <th></th>\n",
       "      <th></th>\n",
       "      <th></th>\n",
       "      <th></th>\n",
       "      <th></th>\n",
       "      <th></th>\n",
       "      <th></th>\n",
       "      <th></th>\n",
       "      <th></th>\n",
       "      <th></th>\n",
       "      <th></th>\n",
       "      <th></th>\n",
       "      <th></th>\n",
       "      <th></th>\n",
       "      <th></th>\n",
       "      <th></th>\n",
       "      <th></th>\n",
       "      <th></th>\n",
       "    </tr>\n",
       "  </thead>\n",
       "  <tbody>\n",
       "    <tr>\n",
       "      <th>2023-09-01 00:00:00+00:00</th>\n",
       "      <td>34506.42</td>\n",
       "      <td>1826.82</td>\n",
       "      <td>27.35</td>\n",
       "      <td>260.6</td>\n",
       "      <td>70.8</td>\n",
       "      <td>0.20364</td>\n",
       "      <td>0.99969</td>\n",
       "      <td>10.3111</td>\n",
       "      <td>0.06664</td>\n",
       "      <td>0.0016</td>\n",
       "      <td>...</td>\n",
       "      <td>0.003858</td>\n",
       "      <td>0.63332</td>\n",
       "      <td>0.020177</td>\n",
       "      <td>0.99861</td>\n",
       "      <td>10.306</td>\n",
       "      <td>6.818</td>\n",
       "      <td>1.0002</td>\n",
       "      <td>9.340000e-07</td>\n",
       "      <td>0.56059</td>\n",
       "      <td>1.5534</td>\n",
       "    </tr>\n",
       "    <tr>\n",
       "      <th>2023-09-01 00:01:00+00:00</th>\n",
       "      <td>34506.42</td>\n",
       "      <td>1826.82</td>\n",
       "      <td>27.35</td>\n",
       "      <td>260.6</td>\n",
       "      <td>70.8</td>\n",
       "      <td>0.20364</td>\n",
       "      <td>0.99969</td>\n",
       "      <td>10.3111</td>\n",
       "      <td>0.06664</td>\n",
       "      <td>0.0016</td>\n",
       "      <td>...</td>\n",
       "      <td>0.003858</td>\n",
       "      <td>0.63332</td>\n",
       "      <td>0.020177</td>\n",
       "      <td>0.99861</td>\n",
       "      <td>10.306</td>\n",
       "      <td>6.818</td>\n",
       "      <td>1.0002</td>\n",
       "      <td>9.340000e-07</td>\n",
       "      <td>0.56059</td>\n",
       "      <td>1.5534</td>\n",
       "    </tr>\n",
       "    <tr>\n",
       "      <th>2023-09-01 00:02:00+00:00</th>\n",
       "      <td>34506.42</td>\n",
       "      <td>1826.82</td>\n",
       "      <td>27.35</td>\n",
       "      <td>260.6</td>\n",
       "      <td>70.8</td>\n",
       "      <td>0.20364</td>\n",
       "      <td>0.99969</td>\n",
       "      <td>10.3111</td>\n",
       "      <td>0.06664</td>\n",
       "      <td>0.0016</td>\n",
       "      <td>...</td>\n",
       "      <td>0.003858</td>\n",
       "      <td>0.63332</td>\n",
       "      <td>0.020177</td>\n",
       "      <td>0.99861</td>\n",
       "      <td>10.306</td>\n",
       "      <td>6.818</td>\n",
       "      <td>1.0002</td>\n",
       "      <td>9.340000e-07</td>\n",
       "      <td>0.56059</td>\n",
       "      <td>1.5534</td>\n",
       "    </tr>\n",
       "    <tr>\n",
       "      <th>2023-09-01 00:03:00+00:00</th>\n",
       "      <td>34506.42</td>\n",
       "      <td>1826.82</td>\n",
       "      <td>27.35</td>\n",
       "      <td>260.6</td>\n",
       "      <td>70.8</td>\n",
       "      <td>0.20364</td>\n",
       "      <td>0.99969</td>\n",
       "      <td>10.3111</td>\n",
       "      <td>0.06664</td>\n",
       "      <td>0.0016</td>\n",
       "      <td>...</td>\n",
       "      <td>0.003858</td>\n",
       "      <td>0.63332</td>\n",
       "      <td>0.020177</td>\n",
       "      <td>0.99861</td>\n",
       "      <td>10.306</td>\n",
       "      <td>6.818</td>\n",
       "      <td>1.0002</td>\n",
       "      <td>9.340000e-07</td>\n",
       "      <td>0.56059</td>\n",
       "      <td>1.5534</td>\n",
       "    </tr>\n",
       "    <tr>\n",
       "      <th>2023-09-01 00:04:00+00:00</th>\n",
       "      <td>34506.42</td>\n",
       "      <td>1826.82</td>\n",
       "      <td>27.35</td>\n",
       "      <td>260.6</td>\n",
       "      <td>70.8</td>\n",
       "      <td>0.20364</td>\n",
       "      <td>0.99969</td>\n",
       "      <td>10.3111</td>\n",
       "      <td>0.06664</td>\n",
       "      <td>0.0016</td>\n",
       "      <td>...</td>\n",
       "      <td>0.003858</td>\n",
       "      <td>0.63332</td>\n",
       "      <td>0.020177</td>\n",
       "      <td>0.99861</td>\n",
       "      <td>10.306</td>\n",
       "      <td>6.818</td>\n",
       "      <td>1.0002</td>\n",
       "      <td>9.340000e-07</td>\n",
       "      <td>0.56059</td>\n",
       "      <td>1.5534</td>\n",
       "    </tr>\n",
       "    <tr>\n",
       "      <th>...</th>\n",
       "      <td>...</td>\n",
       "      <td>...</td>\n",
       "      <td>...</td>\n",
       "      <td>...</td>\n",
       "      <td>...</td>\n",
       "      <td>...</td>\n",
       "      <td>...</td>\n",
       "      <td>...</td>\n",
       "      <td>...</td>\n",
       "      <td>...</td>\n",
       "      <td>...</td>\n",
       "      <td>...</td>\n",
       "      <td>...</td>\n",
       "      <td>...</td>\n",
       "      <td>...</td>\n",
       "      <td>...</td>\n",
       "      <td>...</td>\n",
       "      <td>...</td>\n",
       "      <td>...</td>\n",
       "      <td>...</td>\n",
       "      <td>...</td>\n",
       "    </tr>\n",
       "    <tr>\n",
       "      <th>2023-09-30 11:55:00+00:00</th>\n",
       "      <td>34506.42</td>\n",
       "      <td>1826.82</td>\n",
       "      <td>27.35</td>\n",
       "      <td>260.6</td>\n",
       "      <td>70.8</td>\n",
       "      <td>0.20364</td>\n",
       "      <td>0.99969</td>\n",
       "      <td>10.3111</td>\n",
       "      <td>0.06664</td>\n",
       "      <td>0.0016</td>\n",
       "      <td>...</td>\n",
       "      <td>0.003858</td>\n",
       "      <td>0.63332</td>\n",
       "      <td>0.020177</td>\n",
       "      <td>0.99861</td>\n",
       "      <td>10.306</td>\n",
       "      <td>6.818</td>\n",
       "      <td>1.0002</td>\n",
       "      <td>9.340000e-07</td>\n",
       "      <td>0.56059</td>\n",
       "      <td>1.5534</td>\n",
       "    </tr>\n",
       "    <tr>\n",
       "      <th>2023-09-30 11:56:00+00:00</th>\n",
       "      <td>34506.42</td>\n",
       "      <td>1826.82</td>\n",
       "      <td>27.35</td>\n",
       "      <td>260.6</td>\n",
       "      <td>70.8</td>\n",
       "      <td>0.20364</td>\n",
       "      <td>0.99969</td>\n",
       "      <td>10.3111</td>\n",
       "      <td>0.06664</td>\n",
       "      <td>0.0016</td>\n",
       "      <td>...</td>\n",
       "      <td>0.003858</td>\n",
       "      <td>0.63332</td>\n",
       "      <td>0.020177</td>\n",
       "      <td>0.99861</td>\n",
       "      <td>10.306</td>\n",
       "      <td>6.818</td>\n",
       "      <td>1.0002</td>\n",
       "      <td>9.340000e-07</td>\n",
       "      <td>0.56059</td>\n",
       "      <td>1.5534</td>\n",
       "    </tr>\n",
       "    <tr>\n",
       "      <th>2023-09-30 11:57:00+00:00</th>\n",
       "      <td>34506.42</td>\n",
       "      <td>1826.82</td>\n",
       "      <td>27.35</td>\n",
       "      <td>260.6</td>\n",
       "      <td>70.8</td>\n",
       "      <td>0.20364</td>\n",
       "      <td>0.99969</td>\n",
       "      <td>10.3111</td>\n",
       "      <td>0.06664</td>\n",
       "      <td>0.0016</td>\n",
       "      <td>...</td>\n",
       "      <td>0.003858</td>\n",
       "      <td>0.63332</td>\n",
       "      <td>0.020177</td>\n",
       "      <td>0.99861</td>\n",
       "      <td>10.306</td>\n",
       "      <td>6.818</td>\n",
       "      <td>1.0002</td>\n",
       "      <td>9.340000e-07</td>\n",
       "      <td>0.56059</td>\n",
       "      <td>1.5534</td>\n",
       "    </tr>\n",
       "    <tr>\n",
       "      <th>2023-09-30 11:58:00+00:00</th>\n",
       "      <td>34506.42</td>\n",
       "      <td>1826.82</td>\n",
       "      <td>27.35</td>\n",
       "      <td>260.6</td>\n",
       "      <td>70.8</td>\n",
       "      <td>0.20364</td>\n",
       "      <td>0.99969</td>\n",
       "      <td>10.3111</td>\n",
       "      <td>0.06664</td>\n",
       "      <td>0.0016</td>\n",
       "      <td>...</td>\n",
       "      <td>0.003858</td>\n",
       "      <td>0.63332</td>\n",
       "      <td>0.020177</td>\n",
       "      <td>0.99861</td>\n",
       "      <td>10.306</td>\n",
       "      <td>6.818</td>\n",
       "      <td>1.0002</td>\n",
       "      <td>9.340000e-07</td>\n",
       "      <td>0.56059</td>\n",
       "      <td>1.5534</td>\n",
       "    </tr>\n",
       "    <tr>\n",
       "      <th>2023-09-30 11:59:00+00:00</th>\n",
       "      <td>34506.42</td>\n",
       "      <td>1826.82</td>\n",
       "      <td>27.35</td>\n",
       "      <td>260.6</td>\n",
       "      <td>70.8</td>\n",
       "      <td>0.20364</td>\n",
       "      <td>0.99969</td>\n",
       "      <td>10.3111</td>\n",
       "      <td>0.06664</td>\n",
       "      <td>0.0016</td>\n",
       "      <td>...</td>\n",
       "      <td>0.003858</td>\n",
       "      <td>0.63332</td>\n",
       "      <td>0.020177</td>\n",
       "      <td>0.99861</td>\n",
       "      <td>10.306</td>\n",
       "      <td>6.818</td>\n",
       "      <td>1.0002</td>\n",
       "      <td>9.340000e-07</td>\n",
       "      <td>0.56059</td>\n",
       "      <td>1.5534</td>\n",
       "    </tr>\n",
       "  </tbody>\n",
       "</table>\n",
       "<p>42480 rows × 78 columns</p>\n",
       "</div>"
      ],
      "text/plain": [
       "                            BTC/USD  ETH/USD  ZEC/USD  BCH/USD  LTC/USD  \\\n",
       "timestamp                                                                 \n",
       "2023-09-01 00:00:00+00:00  34506.42  1826.82    27.35    260.6     70.8   \n",
       "2023-09-01 00:01:00+00:00  34506.42  1826.82    27.35    260.6     70.8   \n",
       "2023-09-01 00:02:00+00:00  34506.42  1826.82    27.35    260.6     70.8   \n",
       "2023-09-01 00:03:00+00:00  34506.42  1826.82    27.35    260.6     70.8   \n",
       "2023-09-01 00:04:00+00:00  34506.42  1826.82    27.35    260.6     70.8   \n",
       "...                             ...      ...      ...      ...      ...   \n",
       "2023-09-30 11:55:00+00:00  34506.42  1826.82    27.35    260.6     70.8   \n",
       "2023-09-30 11:56:00+00:00  34506.42  1826.82    27.35    260.6     70.8   \n",
       "2023-09-30 11:57:00+00:00  34506.42  1826.82    27.35    260.6     70.8   \n",
       "2023-09-30 11:58:00+00:00  34506.42  1826.82    27.35    260.6     70.8   \n",
       "2023-09-30 11:59:00+00:00  34506.42  1826.82    27.35    260.6     70.8   \n",
       "\n",
       "                           BAT/USD  DAI/USD  LINK/USD  OXT/USD  AMP/USD  ...  \\\n",
       "timestamp                                                                ...   \n",
       "2023-09-01 00:00:00+00:00  0.20364  0.99969   10.3111  0.06664   0.0016  ...   \n",
       "2023-09-01 00:01:00+00:00  0.20364  0.99969   10.3111  0.06664   0.0016  ...   \n",
       "2023-09-01 00:02:00+00:00  0.20364  0.99969   10.3111  0.06664   0.0016  ...   \n",
       "2023-09-01 00:03:00+00:00  0.20364  0.99969   10.3111  0.06664   0.0016  ...   \n",
       "2023-09-01 00:04:00+00:00  0.20364  0.99969   10.3111  0.06664   0.0016  ...   \n",
       "...                            ...      ...       ...      ...      ...  ...   \n",
       "2023-09-30 11:55:00+00:00  0.20364  0.99969   10.3111  0.06664   0.0016  ...   \n",
       "2023-09-30 11:56:00+00:00  0.20364  0.99969   10.3111  0.06664   0.0016  ...   \n",
       "2023-09-30 11:57:00+00:00  0.20364  0.99969   10.3111  0.06664   0.0016  ...   \n",
       "2023-09-30 11:58:00+00:00  0.20364  0.99969   10.3111  0.06664   0.0016  ...   \n",
       "2023-09-30 11:59:00+00:00  0.20364  0.99969   10.3111  0.06664   0.0016  ...   \n",
       "\n",
       "                           SAMO/USD  IMX/USD  IOTX/USD  BUSD/USD  AVAX/USD  \\\n",
       "timestamp                                                                    \n",
       "2023-09-01 00:00:00+00:00  0.003858  0.63332  0.020177   0.99861    10.306   \n",
       "2023-09-01 00:01:00+00:00  0.003858  0.63332  0.020177   0.99861    10.306   \n",
       "2023-09-01 00:02:00+00:00  0.003858  0.63332  0.020177   0.99861    10.306   \n",
       "2023-09-01 00:03:00+00:00  0.003858  0.63332  0.020177   0.99861    10.306   \n",
       "2023-09-01 00:04:00+00:00  0.003858  0.63332  0.020177   0.99861    10.306   \n",
       "...                             ...      ...       ...       ...       ...   \n",
       "2023-09-30 11:55:00+00:00  0.003858  0.63332  0.020177   0.99861    10.306   \n",
       "2023-09-30 11:56:00+00:00  0.003858  0.63332  0.020177   0.99861    10.306   \n",
       "2023-09-30 11:57:00+00:00  0.003858  0.63332  0.020177   0.99861    10.306   \n",
       "2023-09-30 11:58:00+00:00  0.003858  0.63332  0.020177   0.99861    10.306   \n",
       "2023-09-30 11:59:00+00:00  0.003858  0.63332  0.020177   0.99861    10.306   \n",
       "\n",
       "                           ATOM/USD  USDT/USD      PEPE/USD  XRP/USD  HNT/USD  \n",
       "timestamp                                                                      \n",
       "2023-09-01 00:00:00+00:00     6.818    1.0002  9.340000e-07  0.56059   1.5534  \n",
       "2023-09-01 00:01:00+00:00     6.818    1.0002  9.340000e-07  0.56059   1.5534  \n",
       "2023-09-01 00:02:00+00:00     6.818    1.0002  9.340000e-07  0.56059   1.5534  \n",
       "2023-09-01 00:03:00+00:00     6.818    1.0002  9.340000e-07  0.56059   1.5534  \n",
       "2023-09-01 00:04:00+00:00     6.818    1.0002  9.340000e-07  0.56059   1.5534  \n",
       "...                             ...       ...           ...      ...      ...  \n",
       "2023-09-30 11:55:00+00:00     6.818    1.0002  9.340000e-07  0.56059   1.5534  \n",
       "2023-09-30 11:56:00+00:00     6.818    1.0002  9.340000e-07  0.56059   1.5534  \n",
       "2023-09-30 11:57:00+00:00     6.818    1.0002  9.340000e-07  0.56059   1.5534  \n",
       "2023-09-30 11:58:00+00:00     6.818    1.0002  9.340000e-07  0.56059   1.5534  \n",
       "2023-09-30 11:59:00+00:00     6.818    1.0002  9.340000e-07  0.56059   1.5534  \n",
       "\n",
       "[42480 rows x 78 columns]"
      ]
     },
     "execution_count": 21,
     "metadata": {},
     "output_type": "execute_result"
    }
   ],
   "source": [
    "algo.data.read.df_gemini_202309"
   ]
  },
  {
   "cell_type": "code",
   "execution_count": null,
   "id": "4379695b-81de-4992-88a4-62753e83c784",
   "metadata": {},
   "outputs": [],
   "source": []
  },
  {
   "cell_type": "code",
   "execution_count": 10,
   "id": "1a971637-d901-41e3-8067-ad0446d20507",
   "metadata": {
    "execution": {
     "iopub.execute_input": "2023-10-27T02:00:33.111567Z",
     "iopub.status.busy": "2023-10-27T02:00:33.110451Z",
     "iopub.status.idle": "2023-10-27T02:00:33.403615Z",
     "shell.execute_reply": "2023-10-27T02:00:33.402935Z",
     "shell.execute_reply.started": "2023-10-27T02:00:33.111495Z"
    }
   },
   "outputs": [
    {
     "name": "stdout",
     "output_type": "stream",
     "text": [
      "abs_corrs: [(nan, 'QNT/USD', 'BCH/USD'), (nan, 'AAVE/USD', 'BCH/USD'), (nan, 'AAVE/USD', 'QNT/USD'), (nan, 'LTC/USD', 'BCH/USD'), (nan, 'LTC/USD', 'QNT/USD'), (nan, 'LTC/USD', 'AAVE/USD'), (nan, 'COMP/USD', 'BCH/USD'), (nan, 'COMP/USD', 'QNT/USD'), (nan, 'COMP/USD', 'AAVE/USD'), (nan, 'COMP/USD', 'LTC/USD'), (nan, 'SOL/USD', 'BCH/USD'), (nan, 'SOL/USD', 'QNT/USD'), (nan, 'SOL/USD', 'AAVE/USD'), (nan, 'SOL/USD', 'LTC/USD'), (nan, 'SOL/USD', 'COMP/USD'), (nan, 'ZEC/USD', 'BCH/USD'), (nan, 'ZEC/USD', 'QNT/USD'), (nan, 'ZEC/USD', 'AAVE/USD'), (nan, 'ZEC/USD', 'LTC/USD'), (nan, 'ZEC/USD', 'COMP/USD'), (nan, 'ZEC/USD', 'SOL/USD'), (nan, 'INJ/USD', 'BCH/USD'), (nan, 'INJ/USD', 'QNT/USD'), (nan, 'INJ/USD', 'AAVE/USD'), (nan, 'INJ/USD', 'LTC/USD'), (nan, 'INJ/USD', 'COMP/USD'), (nan, 'INJ/USD', 'SOL/USD'), (nan, 'INJ/USD', 'ZEC/USD'), (nan, 'LINK/USD', 'BCH/USD'), (nan, 'LINK/USD', 'QNT/USD'), (nan, 'LINK/USD', 'AAVE/USD'), (nan, 'LINK/USD', 'LTC/USD'), (nan, 'LINK/USD', 'COMP/USD'), (nan, 'LINK/USD', 'SOL/USD'), (nan, 'LINK/USD', 'ZEC/USD'), (nan, 'LINK/USD', 'INJ/USD'), (nan, 'AVAX/USD', 'BCH/USD'), (nan, 'AVAX/USD', 'QNT/USD'), (nan, 'AVAX/USD', 'AAVE/USD'), (nan, 'AVAX/USD', 'LTC/USD'), (nan, 'AVAX/USD', 'COMP/USD'), (nan, 'AVAX/USD', 'SOL/USD'), (nan, 'AVAX/USD', 'ZEC/USD'), (nan, 'AVAX/USD', 'INJ/USD'), (nan, 'AVAX/USD', 'LINK/USD')]\n",
      "start_symbol: QNT/USD\n",
      "(nan, 'QNT/USD', 'BCH/USD')\n",
      "abs_corrs: [(nan, 'LTC/USD', 'AAVE/USD'), (nan, 'COMP/USD', 'AAVE/USD'), (nan, 'COMP/USD', 'LTC/USD'), (nan, 'SOL/USD', 'AAVE/USD'), (nan, 'SOL/USD', 'LTC/USD'), (nan, 'SOL/USD', 'COMP/USD'), (nan, 'ZEC/USD', 'AAVE/USD'), (nan, 'ZEC/USD', 'LTC/USD'), (nan, 'ZEC/USD', 'COMP/USD'), (nan, 'ZEC/USD', 'SOL/USD'), (nan, 'INJ/USD', 'AAVE/USD'), (nan, 'INJ/USD', 'LTC/USD'), (nan, 'INJ/USD', 'COMP/USD'), (nan, 'INJ/USD', 'SOL/USD'), (nan, 'INJ/USD', 'ZEC/USD'), (nan, 'LINK/USD', 'AAVE/USD'), (nan, 'LINK/USD', 'LTC/USD'), (nan, 'LINK/USD', 'COMP/USD'), (nan, 'LINK/USD', 'SOL/USD'), (nan, 'LINK/USD', 'ZEC/USD'), (nan, 'LINK/USD', 'INJ/USD'), (nan, 'AVAX/USD', 'AAVE/USD'), (nan, 'AVAX/USD', 'LTC/USD'), (nan, 'AVAX/USD', 'COMP/USD'), (nan, 'AVAX/USD', 'SOL/USD'), (nan, 'AVAX/USD', 'ZEC/USD'), (nan, 'AVAX/USD', 'INJ/USD'), (nan, 'AVAX/USD', 'LINK/USD')]\n",
      "start_symbol: LTC/USD\n",
      "(nan, 'LTC/USD', 'AAVE/USD')\n",
      "abs_corrs: [(nan, 'SOL/USD', 'COMP/USD'), (nan, 'ZEC/USD', 'COMP/USD'), (nan, 'ZEC/USD', 'SOL/USD'), (nan, 'INJ/USD', 'COMP/USD'), (nan, 'INJ/USD', 'SOL/USD'), (nan, 'INJ/USD', 'ZEC/USD'), (nan, 'LINK/USD', 'COMP/USD'), (nan, 'LINK/USD', 'SOL/USD'), (nan, 'LINK/USD', 'ZEC/USD'), (nan, 'LINK/USD', 'INJ/USD'), (nan, 'AVAX/USD', 'COMP/USD'), (nan, 'AVAX/USD', 'SOL/USD'), (nan, 'AVAX/USD', 'ZEC/USD'), (nan, 'AVAX/USD', 'INJ/USD'), (nan, 'AVAX/USD', 'LINK/USD')]\n",
      "start_symbol: SOL/USD\n",
      "(nan, 'SOL/USD', 'COMP/USD')\n",
      "abs_corrs: [(nan, 'INJ/USD', 'ZEC/USD'), (nan, 'LINK/USD', 'ZEC/USD'), (nan, 'LINK/USD', 'INJ/USD'), (nan, 'AVAX/USD', 'ZEC/USD'), (nan, 'AVAX/USD', 'INJ/USD'), (nan, 'AVAX/USD', 'LINK/USD')]\n",
      "start_symbol: INJ/USD\n",
      "(nan, 'INJ/USD', 'ZEC/USD')\n",
      "abs_corrs: [(nan, 'AVAX/USD', 'LINK/USD')]\n",
      "start_symbol: AVAX/USD\n",
      "(nan, 'AVAX/USD', 'LINK/USD')\n",
      "abs_corrs: []\n"
     ]
    },
    {
     "ename": "IndexError",
     "evalue": "list index out of range",
     "output_type": "error",
     "traceback": [
      "\u001b[0;31m---------------------------------------------------------------------------\u001b[0m",
      "\u001b[0;31mIndexError\u001b[0m                                Traceback (most recent call last)",
      "Cell \u001b[0;32mIn[10], line 2\u001b[0m\n\u001b[1;32m      1\u001b[0m set_size, set_num \u001b[38;5;241m=\u001b[39m \u001b[38;5;241m2\u001b[39m, \u001b[38;5;241m6\u001b[39m\n\u001b[0;32m----> 2\u001b[0m symbols_sets \u001b[38;5;241m=\u001b[39m \u001b[43malgo\u001b[49m\u001b[38;5;241;43m.\u001b[39;49m\u001b[43mdata\u001b[49m\u001b[38;5;241;43m.\u001b[39;49m\u001b[43mread\u001b[49m\u001b[38;5;241;43m.\u001b[39;49m\u001b[43mget_high_corr_symbols_set_of\u001b[49m\u001b[43m(\u001b[49m\u001b[43malgo\u001b[49m\u001b[38;5;241;43m.\u001b[39;49m\u001b[43mdata\u001b[49m\u001b[38;5;241;43m.\u001b[39;49m\u001b[43mread\u001b[49m\u001b[38;5;241;43m.\u001b[39;49m\u001b[43mdf_gemini_202309\u001b[49m\u001b[43m,\u001b[49m\u001b[43m \u001b[49m\u001b[38;5;241;43m10\u001b[39;49m\u001b[43m,\u001b[49m\u001b[43m \u001b[49m\u001b[43mset_size\u001b[49m\u001b[43m,\u001b[49m\u001b[43m \u001b[49m\u001b[43mset_num\u001b[49m\u001b[43m,\u001b[49m\u001b[43m \u001b[49m\u001b[43msymbols_pool\u001b[49m\u001b[43m,\u001b[49m\u001b[43m \u001b[49m\u001b[43mhigh_corr\u001b[49m\u001b[38;5;241;43m=\u001b[39;49m\u001b[38;5;28;43;01mTrue\u001b[39;49;00m\u001b[43m)\u001b[49m\n\u001b[1;32m      3\u001b[0m symbols_sets\n",
      "File \u001b[0;32m~/projects/mean_reversal/algo/data/read.py:112\u001b[0m, in \u001b[0;36mget_high_corr_symbols_set_of\u001b[0;34m(df, sample_resolution_minutes, set_size, set_num, candidate_symbols, high_corr)\u001b[0m\n\u001b[1;32m    109\u001b[0m     ret\u001b[38;5;241m.\u001b[39mappend(symbols)\n\u001b[1;32m    111\u001b[0m     symbols_pool \u001b[38;5;241m=\u001b[39m [s \u001b[38;5;28;01mfor\u001b[39;00m s \u001b[38;5;129;01min\u001b[39;00m symbols_pool \u001b[38;5;28;01mif\u001b[39;00m s \u001b[38;5;129;01mnot\u001b[39;00m \u001b[38;5;129;01min\u001b[39;00m symbols]\n\u001b[0;32m--> 112\u001b[0m     start_symbol \u001b[38;5;241m=\u001b[39m \u001b[43mfind_start_symbol\u001b[49m\u001b[43m(\u001b[49m\u001b[43msymbols_pool\u001b[49m\u001b[43m)\u001b[49m\n\u001b[1;32m    113\u001b[0m     symbols_pool \u001b[38;5;241m=\u001b[39m [s \u001b[38;5;28;01mfor\u001b[39;00m s \u001b[38;5;129;01min\u001b[39;00m symbols_pool \u001b[38;5;28;01mif\u001b[39;00m s \u001b[38;5;241m!=\u001b[39m start_symbol]\n\u001b[1;32m    114\u001b[0m \u001b[38;5;28;01mreturn\u001b[39;00m ret\n",
      "File \u001b[0;32m~/projects/mean_reversal/algo/data/read.py:99\u001b[0m, in \u001b[0;36mget_high_corr_symbols_set_of.<locals>.find_start_symbol\u001b[0;34m(symbols_pool)\u001b[0m\n\u001b[1;32m     97\u001b[0m abs_corrs \u001b[38;5;241m=\u001b[39m [(\u001b[38;5;28mabs\u001b[39m(c[\u001b[38;5;241m0\u001b[39m]), c[\u001b[38;5;241m1\u001b[39m], c[\u001b[38;5;241m2\u001b[39m],) \u001b[38;5;28;01mfor\u001b[39;00m c \u001b[38;5;129;01min\u001b[39;00m corrs]\n\u001b[1;32m     98\u001b[0m \u001b[38;5;28mprint\u001b[39m(\u001b[38;5;124mf\u001b[39m\u001b[38;5;124m'\u001b[39m\u001b[38;5;124mabs_corrs: \u001b[39m\u001b[38;5;132;01m{\u001b[39;00mabs_corrs\u001b[38;5;132;01m}\u001b[39;00m\u001b[38;5;124m'\u001b[39m)\n\u001b[0;32m---> 99\u001b[0m pick \u001b[38;5;241m=\u001b[39m \u001b[38;5;28;43msorted\u001b[39;49m\u001b[43m(\u001b[49m\u001b[43mabs_corrs\u001b[49m\u001b[43m,\u001b[49m\u001b[43m \u001b[49m\u001b[43mreverse\u001b[49m\u001b[38;5;241;43m=\u001b[39;49m\u001b[43mhigh_corr\u001b[49m\u001b[43m)\u001b[49m\u001b[43m[\u001b[49m\u001b[38;5;241;43m0\u001b[39;49m\u001b[43m]\u001b[49m\n\u001b[1;32m    100\u001b[0m start_symbol \u001b[38;5;241m=\u001b[39m pick[\u001b[38;5;241m1\u001b[39m]\n\u001b[1;32m    101\u001b[0m \u001b[38;5;28;01mreturn\u001b[39;00m start_symbol\n",
      "\u001b[0;31mIndexError\u001b[0m: list index out of range"
     ]
    }
   ],
   "source": [
    "set_size, set_num = 2, 6\n",
    "symbols_sets = algo.data.read.get_high_corr_symbols_set_of(algo.data.read.df_gemini_202309, 10, set_size, set_num, symbols_pool, high_corr=True)\n",
    "symbols_sets"
   ]
  },
  {
   "cell_type": "code",
   "execution_count": 847,
   "id": "ba5d4a76-0fee-46f6-84d3-49b8473e4d53",
   "metadata": {
    "execution": {
     "iopub.execute_input": "2023-10-26T21:21:38.820026Z",
     "iopub.status.busy": "2023-10-26T21:21:38.819434Z",
     "iopub.status.idle": "2023-10-26T21:21:51.068626Z",
     "shell.execute_reply": "2023-10-26T21:21:51.068004Z",
     "shell.execute_reply.started": "2023-10-26T21:21:38.819999Z"
    }
   },
   "outputs": [
    {
     "name": "stdout",
     "output_type": "stream",
     "text": [
      "start_symbol: EGLDUSDT\n",
      "(0.005776412349793026, 'EGLDUSDT', 'QNTUSDT')\n",
      "start_symbol: TRBUSDT\n",
      "(0.038605806813175034, 'TRBUSDT', 'RPLUSDT')\n",
      "start_symbol: CREAMBUSD\n",
      "(0.7847216100092885, 'CREAMBUSD', 'WNXMUSDT')\n",
      "start_symbol: DCRUSDT\n",
      "(0.7866866013569517, 'DCRUSDT', 'KSMUSDT')\n",
      "start_symbol: ETCUSDT\n",
      "(0.8245124827124991, 'ETCUSDT', 'XMRUSDT')\n",
      "start_symbol: BCHUSDT\n",
      "(0.8533584437153164, 'BCHUSDT', 'BIFIUSDT')\n"
     ]
    },
    {
     "data": {
      "text/plain": [
       "[['EGLDUSDT', 'QNTUSDT'],\n",
       " ['TRBUSDT', 'RPLUSDT'],\n",
       " ['CREAMBUSD', 'WNXMUSDT'],\n",
       " ['DCRUSDT', 'KSMUSDT'],\n",
       " ['ETCUSDT', 'XMRUSDT'],\n",
       " ['BCHUSDT', 'BIFIUSDT']]"
      ]
     },
     "execution_count": 847,
     "metadata": {},
     "output_type": "execute_result"
    }
   ],
   "source": [
    "set_size, set_num = 2, 6\n",
    "symbols_sets_low_corr = algo.data.read.get_high_corr_symbols_set_of(algo.data.read.df_gemini_202309, 10, set_size, set_num, symbols_pool, high_corr=False)\n",
    "symbols_sets_low_corr"
   ]
  },
  {
   "cell_type": "code",
   "execution_count": null,
   "id": "5bc0df9c-f486-4285-aaed-fdbc56afd267",
   "metadata": {},
   "outputs": [],
   "source": []
  },
  {
   "cell_type": "code",
   "execution_count": 863,
   "id": "92ec4df7-6959-4ae0-bb89-291e30d0a64b",
   "metadata": {
    "execution": {
     "iopub.execute_input": "2023-10-27T01:39:40.579683Z",
     "iopub.status.busy": "2023-10-27T01:39:40.579273Z",
     "iopub.status.idle": "2023-10-27T01:39:40.583334Z",
     "shell.execute_reply": "2023-10-27T01:39:40.582709Z",
     "shell.execute_reply.started": "2023-10-27T01:39:40.579654Z"
    }
   },
   "outputs": [],
   "source": [
    "#symbols = ['YFIIUSDT', 'ETHUSDT', 'PAXGUSDT', 'BIFIUSDT', 'BNBUSDT']\n",
    "#symbols = ['YFIIUSDT', 'ETHUSDT', 'BIFIUSDT']\n",
    "symbols = ['BNBUPUSDT', 'BNBUSDT', 'SOLUSDT']"
   ]
  },
  {
   "cell_type": "code",
   "execution_count": 867,
   "id": "3b0035a8-87b9-4fe0-a05b-3f56416361a3",
   "metadata": {
    "execution": {
     "iopub.execute_input": "2023-10-27T01:40:07.860743Z",
     "iopub.status.busy": "2023-10-27T01:40:07.860483Z",
     "iopub.status.idle": "2023-10-27T01:40:07.872685Z",
     "shell.execute_reply": "2023-10-27T01:40:07.872170Z",
     "shell.execute_reply.started": "2023-10-27T01:40:07.860724Z"
    }
   },
   "outputs": [
    {
     "data": {
      "text/html": [
       "<div>\n",
       "<style scoped>\n",
       "    .dataframe tbody tr th:only-of-type {\n",
       "        vertical-align: middle;\n",
       "    }\n",
       "\n",
       "    .dataframe tbody tr th {\n",
       "        vertical-align: top;\n",
       "    }\n",
       "\n",
       "    .dataframe thead th {\n",
       "        text-align: right;\n",
       "    }\n",
       "</style>\n",
       "<table border=\"1\" class=\"dataframe\">\n",
       "  <thead>\n",
       "    <tr style=\"text-align: right;\">\n",
       "      <th>symbol</th>\n",
       "      <th>BNBUPUSDT</th>\n",
       "      <th>BNBUSDT</th>\n",
       "      <th>SOLUSDT</th>\n",
       "    </tr>\n",
       "    <tr>\n",
       "      <th>time</th>\n",
       "      <th></th>\n",
       "      <th></th>\n",
       "      <th></th>\n",
       "    </tr>\n",
       "  </thead>\n",
       "  <tbody>\n",
       "    <tr>\n",
       "      <th>2023-08-06 02:55:00</th>\n",
       "      <td>1.000000</td>\n",
       "      <td>1.000000</td>\n",
       "      <td>1.000000</td>\n",
       "    </tr>\n",
       "    <tr>\n",
       "      <th>2023-08-06 03:10:00</th>\n",
       "      <td>0.999298</td>\n",
       "      <td>1.000410</td>\n",
       "      <td>0.997810</td>\n",
       "    </tr>\n",
       "    <tr>\n",
       "      <th>2023-08-06 03:15:00</th>\n",
       "      <td>1.000702</td>\n",
       "      <td>1.000820</td>\n",
       "      <td>0.999124</td>\n",
       "    </tr>\n",
       "    <tr>\n",
       "      <th>2023-08-06 03:20:00</th>\n",
       "      <td>1.005269</td>\n",
       "      <td>1.002049</td>\n",
       "      <td>0.999562</td>\n",
       "    </tr>\n",
       "    <tr>\n",
       "      <th>2023-08-06 03:25:00</th>\n",
       "      <td>1.009132</td>\n",
       "      <td>1.003279</td>\n",
       "      <td>1.000000</td>\n",
       "    </tr>\n",
       "    <tr>\n",
       "      <th>...</th>\n",
       "      <td>...</td>\n",
       "      <td>...</td>\n",
       "      <td>...</td>\n",
       "    </tr>\n",
       "    <tr>\n",
       "      <th>2023-08-06 09:15:00</th>\n",
       "      <td>1.008079</td>\n",
       "      <td>1.003689</td>\n",
       "      <td>1.016207</td>\n",
       "    </tr>\n",
       "    <tr>\n",
       "      <th>2023-08-06 09:20:00</th>\n",
       "      <td>1.008079</td>\n",
       "      <td>1.003279</td>\n",
       "      <td>1.013579</td>\n",
       "    </tr>\n",
       "    <tr>\n",
       "      <th>2023-08-06 09:25:00</th>\n",
       "      <td>1.008079</td>\n",
       "      <td>1.002869</td>\n",
       "      <td>1.013579</td>\n",
       "    </tr>\n",
       "    <tr>\n",
       "      <th>2023-08-06 09:30:00</th>\n",
       "      <td>1.008079</td>\n",
       "      <td>1.002869</td>\n",
       "      <td>1.014017</td>\n",
       "    </tr>\n",
       "    <tr>\n",
       "      <th>2023-08-06 09:35:00</th>\n",
       "      <td>1.008079</td>\n",
       "      <td>1.003279</td>\n",
       "      <td>1.013141</td>\n",
       "    </tr>\n",
       "  </tbody>\n",
       "</table>\n",
       "<p>79 rows × 3 columns</p>\n",
       "</div>"
      ],
      "text/plain": [
       "symbol               BNBUPUSDT   BNBUSDT   SOLUSDT\n",
       "time                                              \n",
       "2023-08-06 02:55:00   1.000000  1.000000  1.000000\n",
       "2023-08-06 03:10:00   0.999298  1.000410  0.997810\n",
       "2023-08-06 03:15:00   1.000702  1.000820  0.999124\n",
       "2023-08-06 03:20:00   1.005269  1.002049  0.999562\n",
       "2023-08-06 03:25:00   1.009132  1.003279  1.000000\n",
       "...                        ...       ...       ...\n",
       "2023-08-06 09:15:00   1.008079  1.003689  1.016207\n",
       "2023-08-06 09:20:00   1.008079  1.003279  1.013579\n",
       "2023-08-06 09:25:00   1.008079  1.002869  1.013579\n",
       "2023-08-06 09:30:00   1.008079  1.002869  1.014017\n",
       "2023-08-06 09:35:00   1.008079  1.003279  1.013141\n",
       "\n",
       "[79 rows x 3 columns]"
      ]
     },
     "execution_count": 867,
     "metadata": {},
     "output_type": "execute_result"
    }
   ],
   "source": [
    "df = algo.data.read.get_close_between_date(algo.data.read.df_binance_202308, 5, symbols, date_str_20230806, date_str_20230809).dropna()\n",
    "(df / df.iloc[0])"
   ]
  },
  {
   "cell_type": "code",
   "execution_count": 864,
   "id": "97088409-77e0-46c0-976e-1a0813729f8e",
   "metadata": {
    "execution": {
     "iopub.execute_input": "2023-10-27T01:39:42.619675Z",
     "iopub.status.busy": "2023-10-27T01:39:42.619407Z",
     "iopub.status.idle": "2023-10-27T01:39:42.631905Z",
     "shell.execute_reply": "2023-10-27T01:39:42.631295Z",
     "shell.execute_reply.started": "2023-10-27T01:39:42.619655Z"
    }
   },
   "outputs": [
    {
     "data": {
      "text/html": [
       "<style type=\"text/css\">\n",
       "#T_ccddc_row0_col0, #T_ccddc_row1_col1, #T_ccddc_row2_col2 {\n",
       "  background-color: #b40426;\n",
       "  color: #f1f1f1;\n",
       "}\n",
       "#T_ccddc_row0_col1 {\n",
       "  background-color: #f5c4ac;\n",
       "  color: #000000;\n",
       "}\n",
       "#T_ccddc_row0_col2, #T_ccddc_row2_col0, #T_ccddc_row2_col1 {\n",
       "  background-color: #3b4cc0;\n",
       "  color: #f1f1f1;\n",
       "}\n",
       "#T_ccddc_row1_col0 {\n",
       "  background-color: #f7ac8e;\n",
       "  color: #000000;\n",
       "}\n",
       "#T_ccddc_row1_col2 {\n",
       "  background-color: #799cf8;\n",
       "  color: #f1f1f1;\n",
       "}\n",
       "</style>\n",
       "<table id=\"T_ccddc\">\n",
       "  <thead>\n",
       "    <tr>\n",
       "      <th class=\"index_name level0\" >symbol</th>\n",
       "      <th id=\"T_ccddc_level0_col0\" class=\"col_heading level0 col0\" >BNBUPUSDT</th>\n",
       "      <th id=\"T_ccddc_level0_col1\" class=\"col_heading level0 col1\" >BNBUSDT</th>\n",
       "      <th id=\"T_ccddc_level0_col2\" class=\"col_heading level0 col2\" >SOLUSDT</th>\n",
       "    </tr>\n",
       "    <tr>\n",
       "      <th class=\"index_name level0\" >symbol</th>\n",
       "      <th class=\"blank col0\" >&nbsp;</th>\n",
       "      <th class=\"blank col1\" >&nbsp;</th>\n",
       "      <th class=\"blank col2\" >&nbsp;</th>\n",
       "    </tr>\n",
       "  </thead>\n",
       "  <tbody>\n",
       "    <tr>\n",
       "      <th id=\"T_ccddc_level0_row0\" class=\"row_heading level0 row0\" >BNBUPUSDT</th>\n",
       "      <td id=\"T_ccddc_row0_col0\" class=\"data row0 col0\" >1.000000</td>\n",
       "      <td id=\"T_ccddc_row0_col1\" class=\"data row0 col1\" >0.896701</td>\n",
       "      <td id=\"T_ccddc_row0_col2\" class=\"data row0 col2\" >0.655109</td>\n",
       "    </tr>\n",
       "    <tr>\n",
       "      <th id=\"T_ccddc_level0_row1\" class=\"row_heading level0 row1\" >BNBUSDT</th>\n",
       "      <td id=\"T_ccddc_row1_col0\" class=\"data row1 col0\" >0.896701</td>\n",
       "      <td id=\"T_ccddc_row1_col1\" class=\"data row1 col1\" >1.000000</td>\n",
       "      <td id=\"T_ccddc_row1_col2\" class=\"data row1 col2\" >0.721838</td>\n",
       "    </tr>\n",
       "    <tr>\n",
       "      <th id=\"T_ccddc_level0_row2\" class=\"row_heading level0 row2\" >SOLUSDT</th>\n",
       "      <td id=\"T_ccddc_row2_col0\" class=\"data row2 col0\" >0.655109</td>\n",
       "      <td id=\"T_ccddc_row2_col1\" class=\"data row2 col1\" >0.721838</td>\n",
       "      <td id=\"T_ccddc_row2_col2\" class=\"data row2 col2\" >1.000000</td>\n",
       "    </tr>\n",
       "  </tbody>\n",
       "</table>\n"
      ],
      "text/plain": [
       "<pandas.io.formats.style.Styler at 0x7f0dd6ad83a0>"
      ]
     },
     "execution_count": 864,
     "metadata": {},
     "output_type": "execute_result"
    }
   ],
   "source": [
    "algo.data.read.get_close_between_date(algo.data.read.df_binance_202308, 1, symbols, date_str_20230806, date_str_20230809).corr().style.background_gradient(cmap='coolwarm')"
   ]
  },
  {
   "cell_type": "code",
   "execution_count": 865,
   "id": "22ba15f7-4f7a-473f-be32-5ea7f64a9a4b",
   "metadata": {
    "execution": {
     "iopub.execute_input": "2023-10-27T01:39:44.498206Z",
     "iopub.status.busy": "2023-10-27T01:39:44.497984Z",
     "iopub.status.idle": "2023-10-27T01:39:44.549401Z",
     "shell.execute_reply": "2023-10-27T01:39:44.548764Z",
     "shell.execute_reply.started": "2023-10-27T01:39:44.498191Z"
    }
   },
   "outputs": [
    {
     "data": {
      "text/html": [
       "<style type=\"text/css\">\n",
       "#T_cb9a6_row0_col0, #T_cb9a6_row1_col1 {\n",
       "  background-color: #b40426;\n",
       "  color: #f1f1f1;\n",
       "}\n",
       "#T_cb9a6_row0_col1, #T_cb9a6_row1_col0 {\n",
       "  background-color: #3b4cc0;\n",
       "  color: #f1f1f1;\n",
       "}\n",
       "</style>\n",
       "<table id=\"T_cb9a6\">\n",
       "  <thead>\n",
       "    <tr>\n",
       "      <th class=\"index_name level0\" >symbol</th>\n",
       "      <th id=\"T_cb9a6_level0_col0\" class=\"col_heading level0 col0\" >EGLDUSDT</th>\n",
       "      <th id=\"T_cb9a6_level0_col1\" class=\"col_heading level0 col1\" >QNTUSDT</th>\n",
       "    </tr>\n",
       "    <tr>\n",
       "      <th class=\"index_name level0\" >symbol</th>\n",
       "      <th class=\"blank col0\" >&nbsp;</th>\n",
       "      <th class=\"blank col1\" >&nbsp;</th>\n",
       "    </tr>\n",
       "  </thead>\n",
       "  <tbody>\n",
       "    <tr>\n",
       "      <th id=\"T_cb9a6_level0_row0\" class=\"row_heading level0 row0\" >EGLDUSDT</th>\n",
       "      <td id=\"T_cb9a6_row0_col0\" class=\"data row0 col0\" >1.000000</td>\n",
       "      <td id=\"T_cb9a6_row0_col1\" class=\"data row0 col1\" >0.007205</td>\n",
       "    </tr>\n",
       "    <tr>\n",
       "      <th id=\"T_cb9a6_level0_row1\" class=\"row_heading level0 row1\" >QNTUSDT</th>\n",
       "      <td id=\"T_cb9a6_row1_col0\" class=\"data row1 col0\" >0.007205</td>\n",
       "      <td id=\"T_cb9a6_row1_col1\" class=\"data row1 col1\" >1.000000</td>\n",
       "    </tr>\n",
       "  </tbody>\n",
       "</table>\n"
      ],
      "text/plain": [
       "<pandas.io.formats.style.Styler at 0x7f0dd0cb3b50>"
      ]
     },
     "execution_count": 865,
     "metadata": {},
     "output_type": "execute_result"
    }
   ],
   "source": [
    "algo.data.read.get_close_between_date(algo.data.read.df_binance_202308, 1, symbols_sets_low_corr[0], date_str_20230806, date_str_20230831).corr().style.background_gradient(cmap='coolwarm')"
   ]
  },
  {
   "cell_type": "code",
   "execution_count": 866,
   "id": "19282e25-c519-4632-bbcd-ef29fb32a0e3",
   "metadata": {
    "execution": {
     "iopub.execute_input": "2023-10-27T01:39:44.665688Z",
     "iopub.status.busy": "2023-10-27T01:39:44.665483Z",
     "iopub.status.idle": "2023-10-27T01:39:44.715954Z",
     "shell.execute_reply": "2023-10-27T01:39:44.715545Z",
     "shell.execute_reply.started": "2023-10-27T01:39:44.665674Z"
    }
   },
   "outputs": [
    {
     "data": {
      "text/html": [
       "<style type=\"text/css\">\n",
       "#T_daa59_row0_col0, #T_daa59_row1_col1 {\n",
       "  background-color: #b40426;\n",
       "  color: #f1f1f1;\n",
       "}\n",
       "#T_daa59_row0_col1, #T_daa59_row1_col0 {\n",
       "  background-color: #3b4cc0;\n",
       "  color: #f1f1f1;\n",
       "}\n",
       "</style>\n",
       "<table id=\"T_daa59\">\n",
       "  <thead>\n",
       "    <tr>\n",
       "      <th class=\"index_name level0\" >symbol</th>\n",
       "      <th id=\"T_daa59_level0_col0\" class=\"col_heading level0 col0\" >TRBUSDT</th>\n",
       "      <th id=\"T_daa59_level0_col1\" class=\"col_heading level0 col1\" >RPLUSDT</th>\n",
       "    </tr>\n",
       "    <tr>\n",
       "      <th class=\"index_name level0\" >symbol</th>\n",
       "      <th class=\"blank col0\" >&nbsp;</th>\n",
       "      <th class=\"blank col1\" >&nbsp;</th>\n",
       "    </tr>\n",
       "  </thead>\n",
       "  <tbody>\n",
       "    <tr>\n",
       "      <th id=\"T_daa59_level0_row0\" class=\"row_heading level0 row0\" >TRBUSDT</th>\n",
       "      <td id=\"T_daa59_row0_col0\" class=\"data row0 col0\" >1.000000</td>\n",
       "      <td id=\"T_daa59_row0_col1\" class=\"data row0 col1\" >-0.024562</td>\n",
       "    </tr>\n",
       "    <tr>\n",
       "      <th id=\"T_daa59_level0_row1\" class=\"row_heading level0 row1\" >RPLUSDT</th>\n",
       "      <td id=\"T_daa59_row1_col0\" class=\"data row1 col0\" >-0.024562</td>\n",
       "      <td id=\"T_daa59_row1_col1\" class=\"data row1 col1\" >1.000000</td>\n",
       "    </tr>\n",
       "  </tbody>\n",
       "</table>\n"
      ],
      "text/plain": [
       "<pandas.io.formats.style.Styler at 0x7f0dd0b51cf0>"
      ]
     },
     "execution_count": 866,
     "metadata": {},
     "output_type": "execute_result"
    }
   ],
   "source": [
    "algo.data.read.get_close_between_date(algo.data.read.df_binance_202308, 1, symbols_sets_low_corr[1], date_str_20230806, date_str_20230831).corr().style.background_gradient(cmap='coolwarm')"
   ]
  },
  {
   "cell_type": "markdown",
   "id": "c52db2b2-b65d-4591-894a-8316405ad84c",
   "metadata": {
    "tags": []
   },
   "source": [
    "# Solve the minimal predictability condition"
   ]
  },
  {
   "cell_type": "code",
   "execution_count": 781,
   "id": "4c2aff78-9fb5-4f77-9274-4278a62b3daa",
   "metadata": {
    "execution": {
     "iopub.execute_input": "2023-10-22T23:40:00.590159Z",
     "iopub.status.busy": "2023-10-22T23:40:00.589364Z",
     "iopub.status.idle": "2023-10-22T23:40:00.610177Z",
     "shell.execute_reply": "2023-10-22T23:40:00.609610Z",
     "shell.execute_reply.started": "2023-10-22T23:40:00.590112Z"
    }
   },
   "outputs": [
    {
     "data": {
      "text/plain": [
       "<module 'algo.minimal_predictability.calculate' from '/home/junlim/projects/mean_reversal/algo/minimal_predictability/calculate.py'>"
      ]
     },
     "execution_count": 781,
     "metadata": {},
     "output_type": "execute_result"
    }
   ],
   "source": [
    "import algo.minimal_predictability.calculate\n",
    "importlib.reload(algo.minimal_predictability.calculate)"
   ]
  },
  {
   "cell_type": "markdown",
   "id": "5cdf4c2a-ebfd-4b04-a403-1ad354b0a9a1",
   "metadata": {},
   "source": [
    "# Trading calculations"
   ]
  },
  {
   "cell_type": "code",
   "execution_count": 807,
   "id": "cbfdce48-4fe1-4fb6-b991-63216e2a8a37",
   "metadata": {
    "execution": {
     "iopub.execute_input": "2023-10-22T23:53:00.196378Z",
     "iopub.status.busy": "2023-10-22T23:53:00.195119Z",
     "iopub.status.idle": "2023-10-22T23:53:00.206290Z",
     "shell.execute_reply": "2023-10-22T23:53:00.205446Z",
     "shell.execute_reply.started": "2023-10-22T23:53:00.196294Z"
    }
   },
   "outputs": [
    {
     "data": {
      "text/plain": [
       "<module 'algo.statarbitrage.bband' from '/home/junlim/projects/mean_reversal/algo/statarbitrage/bband.py'>"
      ]
     },
     "execution_count": 807,
     "metadata": {},
     "output_type": "execute_result"
    }
   ],
   "source": [
    "import algo.statarbitrage.bband\n",
    "importlib.reload(algo.statarbitrage.bband)"
   ]
  },
  {
   "cell_type": "markdown",
   "id": "5f0e50fd-9d27-4508-915d-e7d0f007601a",
   "metadata": {},
   "source": [
    "# Rolling-based Portfolio Construction"
   ]
  },
  {
   "cell_type": "code",
   "execution_count": 875,
   "id": "7b1c6b38-8b29-4e57-89af-f28dfb808c3c",
   "metadata": {
    "execution": {
     "iopub.execute_input": "2023-10-27T01:53:50.563861Z",
     "iopub.status.busy": "2023-10-27T01:53:50.563398Z",
     "iopub.status.idle": "2023-10-27T01:53:50.580362Z",
     "shell.execute_reply": "2023-10-27T01:53:50.579715Z",
     "shell.execute_reply.started": "2023-10-27T01:53:50.563824Z"
    }
   },
   "outputs": [],
   "source": [
    "import algo.research.simulation"
   ]
  },
  {
   "cell_type": "code",
   "execution_count": 876,
   "id": "1ee1db9f-6036-4d23-bbeb-851c41c2c15b",
   "metadata": {
    "execution": {
     "iopub.execute_input": "2023-10-27T01:54:13.589410Z",
     "iopub.status.busy": "2023-10-27T01:54:13.589072Z",
     "iopub.status.idle": "2023-10-27T01:54:59.181670Z",
     "shell.execute_reply": "2023-10-27T01:54:59.181089Z",
     "shell.execute_reply.started": "2023-10-27T01:54:13.589387Z"
    }
   },
   "outputs": [
    {
     "name": "stdout",
     "output_type": "stream",
     "text": [
      "symbols: ['FARMUSDT', 'COMPUSDT']\n"
     ]
    },
    {
     "data": {
      "image/png": "[encoded data removed]",
      "text/plain": [
       "<Figure size 1200x100 with 1 Axes>"
      ]
     },
     "metadata": {},
     "output_type": "display_data"
    },
    {
     "name": "stdout",
     "output_type": "stream",
     "text": [
      "symbols: ['ZECUSDT', 'LTCUSDT']\n"
     ]
    },
    {
     "data": {
      "image/png": "[encoded data removed]",
      "text/plain": [
       "<Figure size 1200x100 with 1 Axes>"
      ]
     },
     "metadata": {},
     "output_type": "display_data"
    },
    {
     "name": "stdout",
     "output_type": "stream",
     "text": [
      "symbols: ['BNBUPUSDT', 'BNBUSDT']\n"
     ]
    },
    {
     "data": {
      "image/png": "[encoded data removed]",
      "text/plain": [
       "<Figure size 1200x100 with 1 Axes>"
      ]
     },
     "metadata": {},
     "output_type": "display_data"
    },
    {
     "name": "stdout",
     "output_type": "stream",
     "text": [
      "symbols: ['SSVUSDT', 'KP3RUSDT']\n"
     ]
    },
    {
     "data": {
      "image/png": "[encoded data removed]",
      "text/plain": [
       "<Figure size 1200x100 with 1 Axes>"
      ]
     },
     "metadata": {},
     "output_type": "display_data"
    },
    {
     "name": "stdout",
     "output_type": "stream",
     "text": [
      "symbols: ['SOLUSDT', 'ILVUSDT']\n"
     ]
    },
    {
     "data": {
      "image/png": "[encoded data removed]",
      "text/plain": [
       "<Figure size 1200x100 with 1 Axes>"
      ]
     },
     "metadata": {},
     "output_type": "display_data"
    },
    {
     "name": "stdout",
     "output_type": "stream",
     "text": [
      "symbols: ['DASHUSDT', 'BIFIUSDT']\n"
     ]
    },
    {
     "data": {
      "image/png": "[encoded data removed]",
      "text/plain": [
       "<Figure size 1200x100 with 1 Axes>"
      ]
     },
     "metadata": {},
     "output_type": "display_data"
    }
   ],
   "source": [
    "bband_trading_param = algo.statarbitrage.bband.BBandTradingParam(60, 2.0)\n",
    "stat_arbitrage_trading_param = algo.research.simulation.StatArbitrageTradingParam(10, 180, 120, bband_trading_param)\n",
    "for symbols in symbols_sets[:]:\n",
    "    print(f'symbols: {symbols}')\n",
    "    values_list = algo.research.simulation.get_trading_result(algo.data.read.df_gemini_202310, symbols, stat_arbitrage_trading_param, if_evecs=True)\n",
    "    values_concat = pd.concat(values_list)\n",
    "    ax = values_concat.profit_raw.cumsum().plot(figsize=(12, 1))\n",
    "    ymin, ymax = 0, values_concat.profit_raw.cumsum().max()\n",
    "    \n",
    "    #ax.vlines(x=list(df_rolling_wgt_resampled.index), ymin=ymin, ymax=ymax, color='g', linestyles='dashed', label='rebalance')\n",
    "    #ax.vlines(x=list(values_concat[values_concat.position_changed == +1].index), ymin=ymin, ymax=ymax, color='b', linestyles='dashed', label='enter')\n",
    "    #ax.vlines(x=list(values_concat[values_concat.position_changed == -1].index), ymin=ymin, ymax=ymax, color='r', linestyles='solid', label='leave')\n",
    "    \n",
    "    plt.show()"
   ]
  },
  {
   "cell_type": "code",
   "execution_count": null,
   "id": "7d480b8f-6303-41d8-b926-2c6092ee12a3",
   "metadata": {},
   "outputs": [],
   "source": []
  },
  {
   "cell_type": "code",
   "execution_count": null,
   "id": "8451aa43-11fd-4a6a-b0cc-ea93d0761606",
   "metadata": {},
   "outputs": [],
   "source": []
  },
  {
   "cell_type": "code",
   "execution_count": null,
   "id": "2a555e46-fa53-405d-bee7-12727814d9ac",
   "metadata": {},
   "outputs": [],
   "source": []
  },
  {
   "cell_type": "code",
   "execution_count": null,
   "id": "dd1d4bb5-47f9-4d77-98ba-21316b1d871a",
   "metadata": {},
   "outputs": [],
   "source": []
  }
 ],
 "metadata": {
  "kernelspec": {
   "display_name": "Python 3 (ipykernel)",
   "language": "python",
   "name": "python3"
  },
  "language_info": {
   "codemirror_mode": {
    "name": "ipython",
    "version": 3
   },
   "file_extension": ".py",
   "mimetype": "text/x-python",
   "name": "python",
   "nbconvert_exporter": "python",
   "pygments_lexer": "ipython3",
   "version": "3.10.12"
  }
 },
 "nbformat": 4,
 "nbformat_minor": 5
}
