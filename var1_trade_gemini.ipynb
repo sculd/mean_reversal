{
 "cells": [
  {
   "cell_type": "markdown",
   "id": "d24616cb-6a32-4ae9-97b2-d98c82f9dee1",
   "metadata": {
    "execution": {
     "iopub.execute_input": "2023-07-04T19:56:11.175669Z",
     "iopub.status.busy": "2023-07-04T19:56:11.173828Z",
     "iopub.status.idle": "2023-07-04T19:56:11.783568Z",
     "shell.execute_reply": "2023-07-04T19:56:11.783034Z",
     "shell.execute_reply.started": "2023-07-04T19:56:11.175538Z"
    }
   },
   "source": [
    "# imports"
   ]
  },
  {
   "cell_type": "code",
   "execution_count": 23,
   "id": "e613f2a2-3723-4a81-8fa3-f2f5b6e0e95e",
   "metadata": {
    "execution": {
     "iopub.execute_input": "2023-10-27T02:10:09.905077Z",
     "iopub.status.busy": "2023-10-27T02:10:09.904011Z",
     "iopub.status.idle": "2023-10-27T02:10:09.909568Z",
     "shell.execute_reply": "2023-10-27T02:10:09.909030Z",
     "shell.execute_reply.started": "2023-10-27T02:10:09.905014Z"
    }
   },
   "outputs": [],
   "source": [
    "import datetime\n",
    "import importlib\n",
    "import pandas as pd, numpy as np\n",
    "import scipy\n",
    "import matplotlib.pyplot as plt\n",
    "from numpy_ext import rolling_apply as rolling_apply_ext\n",
    "import talib\n",
    "from talib import MA_Type\n",
    "import numpy.linalg"
   ]
  },
  {
   "cell_type": "code",
   "execution_count": 24,
   "id": "dae6e3e6-dbed-4d92-88d1-ed711411fcf4",
   "metadata": {
    "execution": {
     "iopub.execute_input": "2023-10-27T02:10:10.086622Z",
     "iopub.status.busy": "2023-10-27T02:10:10.086431Z",
     "iopub.status.idle": "2023-10-27T02:10:10.405341Z",
     "shell.execute_reply": "2023-10-27T02:10:10.404872Z",
     "shell.execute_reply.started": "2023-10-27T02:10:10.086609Z"
    }
   },
   "outputs": [
    {
     "data": {
      "text/plain": [
       "<module 'algo.data.read' from '/home/junlim/projects/mean_reversal/algo/data/read.py'>"
      ]
     },
     "execution_count": 24,
     "metadata": {},
     "output_type": "execute_result"
    }
   ],
   "source": [
    "import algo.data.read\n",
    "importlib.reload(algo.data.read)"
   ]
  },
  {
   "cell_type": "code",
   "execution_count": 25,
   "id": "e5da1293-9e32-4384-a572-875df8279122",
   "metadata": {
    "execution": {
     "iopub.execute_input": "2023-10-27T02:10:10.406486Z",
     "iopub.status.busy": "2023-10-27T02:10:10.406285Z",
     "iopub.status.idle": "2023-10-27T02:10:10.420463Z",
     "shell.execute_reply": "2023-10-27T02:10:10.419875Z",
     "shell.execute_reply.started": "2023-10-27T02:10:10.406471Z"
    }
   },
   "outputs": [
    {
     "data": {
      "text/plain": [
       "['BCH/USD',\n",
       " 'QNT/USD',\n",
       " 'AAVE/USD',\n",
       " 'LTC/USD',\n",
       " 'COMP/USD',\n",
       " 'SOL/USD',\n",
       " 'ZEC/USD',\n",
       " 'INJ/USD',\n",
       " 'LINK/USD',\n",
       " 'AVAX/USD']"
      ]
     },
     "execution_count": 25,
     "metadata": {},
     "output_type": "execute_result"
    }
   ],
   "source": [
    "symbols_pool = [s for _, s in sorted([(m, s) for s, m in algo.data.read.df_gemini_202310.mean().items() if m > 10 and m < 500], reverse=True)]\n",
    "# remove duplicates within USDT / BUSD swap\n",
    "symbols_pool = [s for s in symbols_pool if s not in [s.replace('USDT', 'BUSD') for s in symbols_pool if 'USDT' in s]]\n",
    "symbols_pool"
   ]
  },
  {
   "cell_type": "code",
   "execution_count": null,
   "id": "bec56c11-0774-4936-82a9-76f5c39bc357",
   "metadata": {},
   "outputs": [],
   "source": []
  },
  {
   "cell_type": "code",
   "execution_count": null,
   "id": "21103d7b-7201-4b80-a315-06f8b3aa8629",
   "metadata": {},
   "outputs": [],
   "source": []
  },
  {
   "cell_type": "code",
   "execution_count": null,
   "id": "6e37e542-4e92-4558-894a-f5d6b83cf61d",
   "metadata": {},
   "outputs": [],
   "source": []
  },
  {
   "cell_type": "code",
   "execution_count": null,
   "id": "09ff42ea-96ff-42c9-a0fc-7018d4893faf",
   "metadata": {},
   "outputs": [],
   "source": []
  },
  {
   "cell_type": "code",
   "execution_count": 26,
   "id": "45536c7e-89f6-4751-b769-87ce1afc0c11",
   "metadata": {
    "execution": {
     "iopub.execute_input": "2023-10-27T02:10:10.889829Z",
     "iopub.status.busy": "2023-10-27T02:10:10.889594Z",
     "iopub.status.idle": "2023-10-27T02:10:10.918206Z",
     "shell.execute_reply": "2023-10-27T02:10:10.917369Z",
     "shell.execute_reply.started": "2023-10-27T02:10:10.889813Z"
    }
   },
   "outputs": [
    {
     "data": {
      "text/html": [
       "<div>\n",
       "<style scoped>\n",
       "    .dataframe tbody tr th:only-of-type {\n",
       "        vertical-align: middle;\n",
       "    }\n",
       "\n",
       "    .dataframe tbody tr th {\n",
       "        vertical-align: top;\n",
       "    }\n",
       "\n",
       "    .dataframe thead th {\n",
       "        text-align: right;\n",
       "    }\n",
       "</style>\n",
       "<table border=\"1\" class=\"dataframe\">\n",
       "  <thead>\n",
       "    <tr style=\"text-align: right;\">\n",
       "      <th></th>\n",
       "      <th>BTC/USD</th>\n",
       "      <th>ETH/USD</th>\n",
       "      <th>ZEC/USD</th>\n",
       "      <th>BCH/USD</th>\n",
       "      <th>LTC/USD</th>\n",
       "      <th>BAT/USD</th>\n",
       "      <th>DAI/USD</th>\n",
       "      <th>LINK/USD</th>\n",
       "      <th>OXT/USD</th>\n",
       "      <th>AMP/USD</th>\n",
       "      <th>...</th>\n",
       "      <th>SAMO/USD</th>\n",
       "      <th>IMX/USD</th>\n",
       "      <th>IOTX/USD</th>\n",
       "      <th>BUSD/USD</th>\n",
       "      <th>AVAX/USD</th>\n",
       "      <th>ATOM/USD</th>\n",
       "      <th>USDT/USD</th>\n",
       "      <th>PEPE/USD</th>\n",
       "      <th>XRP/USD</th>\n",
       "      <th>HNT/USD</th>\n",
       "    </tr>\n",
       "    <tr>\n",
       "      <th>timestamp</th>\n",
       "      <th></th>\n",
       "      <th></th>\n",
       "      <th></th>\n",
       "      <th></th>\n",
       "      <th></th>\n",
       "      <th></th>\n",
       "      <th></th>\n",
       "      <th></th>\n",
       "      <th></th>\n",
       "      <th></th>\n",
       "      <th></th>\n",
       "      <th></th>\n",
       "      <th></th>\n",
       "      <th></th>\n",
       "      <th></th>\n",
       "      <th></th>\n",
       "      <th></th>\n",
       "      <th></th>\n",
       "      <th></th>\n",
       "      <th></th>\n",
       "      <th></th>\n",
       "    </tr>\n",
       "  </thead>\n",
       "  <tbody>\n",
       "    <tr>\n",
       "      <th>2023-09-01 00:00:00+00:00</th>\n",
       "      <td>34506.42</td>\n",
       "      <td>1826.82</td>\n",
       "      <td>27.35</td>\n",
       "      <td>260.6</td>\n",
       "      <td>70.8</td>\n",
       "      <td>0.20364</td>\n",
       "      <td>0.99969</td>\n",
       "      <td>10.3111</td>\n",
       "      <td>0.06664</td>\n",
       "      <td>0.0016</td>\n",
       "      <td>...</td>\n",
       "      <td>0.003858</td>\n",
       "      <td>0.63332</td>\n",
       "      <td>0.020177</td>\n",
       "      <td>0.99861</td>\n",
       "      <td>10.306</td>\n",
       "      <td>6.818</td>\n",
       "      <td>1.0002</td>\n",
       "      <td>9.340000e-07</td>\n",
       "      <td>0.56059</td>\n",
       "      <td>1.5534</td>\n",
       "    </tr>\n",
       "    <tr>\n",
       "      <th>2023-09-01 00:01:00+00:00</th>\n",
       "      <td>34506.42</td>\n",
       "      <td>1826.82</td>\n",
       "      <td>27.35</td>\n",
       "      <td>260.6</td>\n",
       "      <td>70.8</td>\n",
       "      <td>0.20364</td>\n",
       "      <td>0.99969</td>\n",
       "      <td>10.3111</td>\n",
       "      <td>0.06664</td>\n",
       "      <td>0.0016</td>\n",
       "      <td>...</td>\n",
       "      <td>0.003858</td>\n",
       "      <td>0.63332</td>\n",
       "      <td>0.020177</td>\n",
       "      <td>0.99861</td>\n",
       "      <td>10.306</td>\n",
       "      <td>6.818</td>\n",
       "      <td>1.0002</td>\n",
       "      <td>9.340000e-07</td>\n",
       "      <td>0.56059</td>\n",
       "      <td>1.5534</td>\n",
       "    </tr>\n",
       "    <tr>\n",
       "      <th>2023-09-01 00:02:00+00:00</th>\n",
       "      <td>34506.42</td>\n",
       "      <td>1826.82</td>\n",
       "      <td>27.35</td>\n",
       "      <td>260.6</td>\n",
       "      <td>70.8</td>\n",
       "      <td>0.20364</td>\n",
       "      <td>0.99969</td>\n",
       "      <td>10.3111</td>\n",
       "      <td>0.06664</td>\n",
       "      <td>0.0016</td>\n",
       "      <td>...</td>\n",
       "      <td>0.003858</td>\n",
       "      <td>0.63332</td>\n",
       "      <td>0.020177</td>\n",
       "      <td>0.99861</td>\n",
       "      <td>10.306</td>\n",
       "      <td>6.818</td>\n",
       "      <td>1.0002</td>\n",
       "      <td>9.340000e-07</td>\n",
       "      <td>0.56059</td>\n",
       "      <td>1.5534</td>\n",
       "    </tr>\n",
       "    <tr>\n",
       "      <th>2023-09-01 00:03:00+00:00</th>\n",
       "      <td>34506.42</td>\n",
       "      <td>1826.82</td>\n",
       "      <td>27.35</td>\n",
       "      <td>260.6</td>\n",
       "      <td>70.8</td>\n",
       "      <td>0.20364</td>\n",
       "      <td>0.99969</td>\n",
       "      <td>10.3111</td>\n",
       "      <td>0.06664</td>\n",
       "      <td>0.0016</td>\n",
       "      <td>...</td>\n",
       "      <td>0.003858</td>\n",
       "      <td>0.63332</td>\n",
       "      <td>0.020177</td>\n",
       "      <td>0.99861</td>\n",
       "      <td>10.306</td>\n",
       "      <td>6.818</td>\n",
       "      <td>1.0002</td>\n",
       "      <td>9.340000e-07</td>\n",
       "      <td>0.56059</td>\n",
       "      <td>1.5534</td>\n",
       "    </tr>\n",
       "    <tr>\n",
       "      <th>2023-09-01 00:04:00+00:00</th>\n",
       "      <td>34506.42</td>\n",
       "      <td>1826.82</td>\n",
       "      <td>27.35</td>\n",
       "      <td>260.6</td>\n",
       "      <td>70.8</td>\n",
       "      <td>0.20364</td>\n",
       "      <td>0.99969</td>\n",
       "      <td>10.3111</td>\n",
       "      <td>0.06664</td>\n",
       "      <td>0.0016</td>\n",
       "      <td>...</td>\n",
       "      <td>0.003858</td>\n",
       "      <td>0.63332</td>\n",
       "      <td>0.020177</td>\n",
       "      <td>0.99861</td>\n",
       "      <td>10.306</td>\n",
       "      <td>6.818</td>\n",
       "      <td>1.0002</td>\n",
       "      <td>9.340000e-07</td>\n",
       "      <td>0.56059</td>\n",
       "      <td>1.5534</td>\n",
       "    </tr>\n",
       "    <tr>\n",
       "      <th>...</th>\n",
       "      <td>...</td>\n",
       "      <td>...</td>\n",
       "      <td>...</td>\n",
       "      <td>...</td>\n",
       "      <td>...</td>\n",
       "      <td>...</td>\n",
       "      <td>...</td>\n",
       "      <td>...</td>\n",
       "      <td>...</td>\n",
       "      <td>...</td>\n",
       "      <td>...</td>\n",
       "      <td>...</td>\n",
       "      <td>...</td>\n",
       "      <td>...</td>\n",
       "      <td>...</td>\n",
       "      <td>...</td>\n",
       "      <td>...</td>\n",
       "      <td>...</td>\n",
       "      <td>...</td>\n",
       "      <td>...</td>\n",
       "      <td>...</td>\n",
       "    </tr>\n",
       "    <tr>\n",
       "      <th>2023-09-30 11:55:00+00:00</th>\n",
       "      <td>34506.42</td>\n",
       "      <td>1826.82</td>\n",
       "      <td>27.35</td>\n",
       "      <td>260.6</td>\n",
       "      <td>70.8</td>\n",
       "      <td>0.20364</td>\n",
       "      <td>0.99969</td>\n",
       "      <td>10.3111</td>\n",
       "      <td>0.06664</td>\n",
       "      <td>0.0016</td>\n",
       "      <td>...</td>\n",
       "      <td>0.003858</td>\n",
       "      <td>0.63332</td>\n",
       "      <td>0.020177</td>\n",
       "      <td>0.99861</td>\n",
       "      <td>10.306</td>\n",
       "      <td>6.818</td>\n",
       "      <td>1.0002</td>\n",
       "      <td>9.340000e-07</td>\n",
       "      <td>0.56059</td>\n",
       "      <td>1.5534</td>\n",
       "    </tr>\n",
       "    <tr>\n",
       "      <th>2023-09-30 11:56:00+00:00</th>\n",
       "      <td>34506.42</td>\n",
       "      <td>1826.82</td>\n",
       "      <td>27.35</td>\n",
       "      <td>260.6</td>\n",
       "      <td>70.8</td>\n",
       "      <td>0.20364</td>\n",
       "      <td>0.99969</td>\n",
       "      <td>10.3111</td>\n",
       "      <td>0.06664</td>\n",
       "      <td>0.0016</td>\n",
       "      <td>...</td>\n",
       "      <td>0.003858</td>\n",
       "      <td>0.63332</td>\n",
       "      <td>0.020177</td>\n",
       "      <td>0.99861</td>\n",
       "      <td>10.306</td>\n",
       "      <td>6.818</td>\n",
       "      <td>1.0002</td>\n",
       "      <td>9.340000e-07</td>\n",
       "      <td>0.56059</td>\n",
       "      <td>1.5534</td>\n",
       "    </tr>\n",
       "    <tr>\n",
       "      <th>2023-09-30 11:57:00+00:00</th>\n",
       "      <td>34506.42</td>\n",
       "      <td>1826.82</td>\n",
       "      <td>27.35</td>\n",
       "      <td>260.6</td>\n",
       "      <td>70.8</td>\n",
       "      <td>0.20364</td>\n",
       "      <td>0.99969</td>\n",
       "      <td>10.3111</td>\n",
       "      <td>0.06664</td>\n",
       "      <td>0.0016</td>\n",
       "      <td>...</td>\n",
       "      <td>0.003858</td>\n",
       "      <td>0.63332</td>\n",
       "      <td>0.020177</td>\n",
       "      <td>0.99861</td>\n",
       "      <td>10.306</td>\n",
       "      <td>6.818</td>\n",
       "      <td>1.0002</td>\n",
       "      <td>9.340000e-07</td>\n",
       "      <td>0.56059</td>\n",
       "      <td>1.5534</td>\n",
       "    </tr>\n",
       "    <tr>\n",
       "      <th>2023-09-30 11:58:00+00:00</th>\n",
       "      <td>34506.42</td>\n",
       "      <td>1826.82</td>\n",
       "      <td>27.35</td>\n",
       "      <td>260.6</td>\n",
       "      <td>70.8</td>\n",
       "      <td>0.20364</td>\n",
       "      <td>0.99969</td>\n",
       "      <td>10.3111</td>\n",
       "      <td>0.06664</td>\n",
       "      <td>0.0016</td>\n",
       "      <td>...</td>\n",
       "      <td>0.003858</td>\n",
       "      <td>0.63332</td>\n",
       "      <td>0.020177</td>\n",
       "      <td>0.99861</td>\n",
       "      <td>10.306</td>\n",
       "      <td>6.818</td>\n",
       "      <td>1.0002</td>\n",
       "      <td>9.340000e-07</td>\n",
       "      <td>0.56059</td>\n",
       "      <td>1.5534</td>\n",
       "    </tr>\n",
       "    <tr>\n",
       "      <th>2023-09-30 11:59:00+00:00</th>\n",
       "      <td>34506.42</td>\n",
       "      <td>1826.82</td>\n",
       "      <td>27.35</td>\n",
       "      <td>260.6</td>\n",
       "      <td>70.8</td>\n",
       "      <td>0.20364</td>\n",
       "      <td>0.99969</td>\n",
       "      <td>10.3111</td>\n",
       "      <td>0.06664</td>\n",
       "      <td>0.0016</td>\n",
       "      <td>...</td>\n",
       "      <td>0.003858</td>\n",
       "      <td>0.63332</td>\n",
       "      <td>0.020177</td>\n",
       "      <td>0.99861</td>\n",
       "      <td>10.306</td>\n",
       "      <td>6.818</td>\n",
       "      <td>1.0002</td>\n",
       "      <td>9.340000e-07</td>\n",
       "      <td>0.56059</td>\n",
       "      <td>1.5534</td>\n",
       "    </tr>\n",
       "  </tbody>\n",
       "</table>\n",
       "<p>42480 rows × 78 columns</p>\n",
       "</div>"
      ],
      "text/plain": [
       "                            BTC/USD  ETH/USD  ZEC/USD  BCH/USD  LTC/USD  \\\n",
       "timestamp                                                                 \n",
       "2023-09-01 00:00:00+00:00  34506.42  1826.82    27.35    260.6     70.8   \n",
       "2023-09-01 00:01:00+00:00  34506.42  1826.82    27.35    260.6     70.8   \n",
       "2023-09-01 00:02:00+00:00  34506.42  1826.82    27.35    260.6     70.8   \n",
       "2023-09-01 00:03:00+00:00  34506.42  1826.82    27.35    260.6     70.8   \n",
       "2023-09-01 00:04:00+00:00  34506.42  1826.82    27.35    260.6     70.8   \n",
       "...                             ...      ...      ...      ...      ...   \n",
       "2023-09-30 11:55:00+00:00  34506.42  1826.82    27.35    260.6     70.8   \n",
       "2023-09-30 11:56:00+00:00  34506.42  1826.82    27.35    260.6     70.8   \n",
       "2023-09-30 11:57:00+00:00  34506.42  1826.82    27.35    260.6     70.8   \n",
       "2023-09-30 11:58:00+00:00  34506.42  1826.82    27.35    260.6     70.8   \n",
       "2023-09-30 11:59:00+00:00  34506.42  1826.82    27.35    260.6     70.8   \n",
       "\n",
       "                           BAT/USD  DAI/USD  LINK/USD  OXT/USD  AMP/USD  ...  \\\n",
       "timestamp                                                                ...   \n",
       "2023-09-01 00:00:00+00:00  0.20364  0.99969   10.3111  0.06664   0.0016  ...   \n",
       "2023-09-01 00:01:00+00:00  0.20364  0.99969   10.3111  0.06664   0.0016  ...   \n",
       "2023-09-01 00:02:00+00:00  0.20364  0.99969   10.3111  0.06664   0.0016  ...   \n",
       "2023-09-01 00:03:00+00:00  0.20364  0.99969   10.3111  0.06664   0.0016  ...   \n",
       "2023-09-01 00:04:00+00:00  0.20364  0.99969   10.3111  0.06664   0.0016  ...   \n",
       "...                            ...      ...       ...      ...      ...  ...   \n",
       "2023-09-30 11:55:00+00:00  0.20364  0.99969   10.3111  0.06664   0.0016  ...   \n",
       "2023-09-30 11:56:00+00:00  0.20364  0.99969   10.3111  0.06664   0.0016  ...   \n",
       "2023-09-30 11:57:00+00:00  0.20364  0.99969   10.3111  0.06664   0.0016  ...   \n",
       "2023-09-30 11:58:00+00:00  0.20364  0.99969   10.3111  0.06664   0.0016  ...   \n",
       "2023-09-30 11:59:00+00:00  0.20364  0.99969   10.3111  0.06664   0.0016  ...   \n",
       "\n",
       "                           SAMO/USD  IMX/USD  IOTX/USD  BUSD/USD  AVAX/USD  \\\n",
       "timestamp                                                                    \n",
       "2023-09-01 00:00:00+00:00  0.003858  0.63332  0.020177   0.99861    10.306   \n",
       "2023-09-01 00:01:00+00:00  0.003858  0.63332  0.020177   0.99861    10.306   \n",
       "2023-09-01 00:02:00+00:00  0.003858  0.63332  0.020177   0.99861    10.306   \n",
       "2023-09-01 00:03:00+00:00  0.003858  0.63332  0.020177   0.99861    10.306   \n",
       "2023-09-01 00:04:00+00:00  0.003858  0.63332  0.020177   0.99861    10.306   \n",
       "...                             ...      ...       ...       ...       ...   \n",
       "2023-09-30 11:55:00+00:00  0.003858  0.63332  0.020177   0.99861    10.306   \n",
       "2023-09-30 11:56:00+00:00  0.003858  0.63332  0.020177   0.99861    10.306   \n",
       "2023-09-30 11:57:00+00:00  0.003858  0.63332  0.020177   0.99861    10.306   \n",
       "2023-09-30 11:58:00+00:00  0.003858  0.63332  0.020177   0.99861    10.306   \n",
       "2023-09-30 11:59:00+00:00  0.003858  0.63332  0.020177   0.99861    10.306   \n",
       "\n",
       "                           ATOM/USD  USDT/USD      PEPE/USD  XRP/USD  HNT/USD  \n",
       "timestamp                                                                      \n",
       "2023-09-01 00:00:00+00:00     6.818    1.0002  9.340000e-07  0.56059   1.5534  \n",
       "2023-09-01 00:01:00+00:00     6.818    1.0002  9.340000e-07  0.56059   1.5534  \n",
       "2023-09-01 00:02:00+00:00     6.818    1.0002  9.340000e-07  0.56059   1.5534  \n",
       "2023-09-01 00:03:00+00:00     6.818    1.0002  9.340000e-07  0.56059   1.5534  \n",
       "2023-09-01 00:04:00+00:00     6.818    1.0002  9.340000e-07  0.56059   1.5534  \n",
       "...                             ...       ...           ...      ...      ...  \n",
       "2023-09-30 11:55:00+00:00     6.818    1.0002  9.340000e-07  0.56059   1.5534  \n",
       "2023-09-30 11:56:00+00:00     6.818    1.0002  9.340000e-07  0.56059   1.5534  \n",
       "2023-09-30 11:57:00+00:00     6.818    1.0002  9.340000e-07  0.56059   1.5534  \n",
       "2023-09-30 11:58:00+00:00     6.818    1.0002  9.340000e-07  0.56059   1.5534  \n",
       "2023-09-30 11:59:00+00:00     6.818    1.0002  9.340000e-07  0.56059   1.5534  \n",
       "\n",
       "[42480 rows x 78 columns]"
      ]
     },
     "execution_count": 26,
     "metadata": {},
     "output_type": "execute_result"
    }
   ],
   "source": [
    "algo.data.read.df_gemini_202309"
   ]
  },
  {
   "cell_type": "code",
   "execution_count": null,
   "id": "4379695b-81de-4992-88a4-62753e83c784",
   "metadata": {},
   "outputs": [],
   "source": []
  },
  {
   "cell_type": "code",
   "execution_count": 35,
   "id": "1a971637-d901-41e3-8067-ad0446d20507",
   "metadata": {
    "execution": {
     "iopub.execute_input": "2023-10-27T02:10:40.808782Z",
     "iopub.status.busy": "2023-10-27T02:10:40.808293Z",
     "iopub.status.idle": "2023-10-27T02:10:41.096438Z",
     "shell.execute_reply": "2023-10-27T02:10:41.095576Z",
     "shell.execute_reply.started": "2023-10-27T02:10:40.808745Z"
    }
   },
   "outputs": [
    {
     "name": "stdout",
     "output_type": "stream",
     "text": [
      "start_symbol: QNT/USD\n",
      "(nan, 'QNT/USD', 'BCH/USD')\n",
      "start_symbol: LTC/USD\n",
      "(nan, 'LTC/USD', 'AAVE/USD')\n",
      "start_symbol: SOL/USD\n",
      "(nan, 'SOL/USD', 'COMP/USD')\n",
      "start_symbol: INJ/USD\n",
      "(nan, 'INJ/USD', 'ZEC/USD')\n",
      "start_symbol: AVAX/USD\n",
      "(nan, 'AVAX/USD', 'LINK/USD')\n"
     ]
    },
    {
     "ename": "IndexError",
     "evalue": "list index out of range",
     "output_type": "error",
     "traceback": [
      "\u001b[0;31m---------------------------------------------------------------------------\u001b[0m",
      "\u001b[0;31mIndexError\u001b[0m                                Traceback (most recent call last)",
      "Cell \u001b[0;32mIn[35], line 2\u001b[0m\n\u001b[1;32m      1\u001b[0m set_size, set_num \u001b[38;5;241m=\u001b[39m \u001b[38;5;241m2\u001b[39m, \u001b[38;5;241m6\u001b[39m\n\u001b[0;32m----> 2\u001b[0m symbols_sets \u001b[38;5;241m=\u001b[39m \u001b[43malgo\u001b[49m\u001b[38;5;241;43m.\u001b[39;49m\u001b[43mdata\u001b[49m\u001b[38;5;241;43m.\u001b[39;49m\u001b[43mread\u001b[49m\u001b[38;5;241;43m.\u001b[39;49m\u001b[43mget_high_corr_symbols_set_of\u001b[49m\u001b[43m(\u001b[49m\u001b[43malgo\u001b[49m\u001b[38;5;241;43m.\u001b[39;49m\u001b[43mdata\u001b[49m\u001b[38;5;241;43m.\u001b[39;49m\u001b[43mread\u001b[49m\u001b[38;5;241;43m.\u001b[39;49m\u001b[43mdf_gemini_202309\u001b[49m\u001b[43m,\u001b[49m\u001b[43m \u001b[49m\u001b[38;5;241;43m10\u001b[39;49m\u001b[43m,\u001b[49m\u001b[43m \u001b[49m\u001b[43mset_size\u001b[49m\u001b[43m,\u001b[49m\u001b[43m \u001b[49m\u001b[43mset_num\u001b[49m\u001b[43m,\u001b[49m\u001b[43m \u001b[49m\u001b[43msymbols_pool\u001b[49m\u001b[43m,\u001b[49m\u001b[43m \u001b[49m\u001b[43mhigh_corr\u001b[49m\u001b[38;5;241;43m=\u001b[39;49m\u001b[38;5;28;43;01mTrue\u001b[39;49;00m\u001b[43m)\u001b[49m\n\u001b[1;32m      3\u001b[0m symbols_sets\n",
      "File \u001b[0;32m~/projects/mean_reversal/algo/data/read.py:111\u001b[0m, in \u001b[0;36mget_high_corr_symbols_set_of\u001b[0;34m(df, sample_resolution_minutes, set_size, set_num, candidate_symbols, high_corr)\u001b[0m\n\u001b[1;32m    108\u001b[0m     ret\u001b[38;5;241m.\u001b[39mappend(symbols)\n\u001b[1;32m    110\u001b[0m     symbols_pool \u001b[38;5;241m=\u001b[39m [s \u001b[38;5;28;01mfor\u001b[39;00m s \u001b[38;5;129;01min\u001b[39;00m symbols_pool \u001b[38;5;28;01mif\u001b[39;00m s \u001b[38;5;129;01mnot\u001b[39;00m \u001b[38;5;129;01min\u001b[39;00m symbols]\n\u001b[0;32m--> 111\u001b[0m     start_symbol \u001b[38;5;241m=\u001b[39m \u001b[43mfind_start_symbol\u001b[49m\u001b[43m(\u001b[49m\u001b[43msymbols_pool\u001b[49m\u001b[43m)\u001b[49m\n\u001b[1;32m    112\u001b[0m     symbols_pool \u001b[38;5;241m=\u001b[39m [s \u001b[38;5;28;01mfor\u001b[39;00m s \u001b[38;5;129;01min\u001b[39;00m symbols_pool \u001b[38;5;28;01mif\u001b[39;00m s \u001b[38;5;241m!=\u001b[39m start_symbol]\n\u001b[1;32m    113\u001b[0m \u001b[38;5;28;01mreturn\u001b[39;00m ret\n",
      "File \u001b[0;32m~/projects/mean_reversal/algo/data/read.py:98\u001b[0m, in \u001b[0;36mget_high_corr_symbols_set_of.<locals>.find_start_symbol\u001b[0;34m(symbols_pool)\u001b[0m\n\u001b[1;32m     95\u001b[0m         corrs\u001b[38;5;241m.\u001b[39mappend((df_corr\u001b[38;5;241m.\u001b[39mloc[symbol_row][symbol_col], symbol_row, symbol_col,))\n\u001b[1;32m     97\u001b[0m abs_corrs \u001b[38;5;241m=\u001b[39m [(\u001b[38;5;28mabs\u001b[39m(c[\u001b[38;5;241m0\u001b[39m]), c[\u001b[38;5;241m1\u001b[39m], c[\u001b[38;5;241m2\u001b[39m],) \u001b[38;5;28;01mfor\u001b[39;00m c \u001b[38;5;129;01min\u001b[39;00m corrs]\n\u001b[0;32m---> 98\u001b[0m pick \u001b[38;5;241m=\u001b[39m \u001b[38;5;28;43msorted\u001b[39;49m\u001b[43m(\u001b[49m\u001b[43mabs_corrs\u001b[49m\u001b[43m,\u001b[49m\u001b[43m \u001b[49m\u001b[43mreverse\u001b[49m\u001b[38;5;241;43m=\u001b[39;49m\u001b[43mhigh_corr\u001b[49m\u001b[43m)\u001b[49m\u001b[43m[\u001b[49m\u001b[38;5;241;43m0\u001b[39;49m\u001b[43m]\u001b[49m\n\u001b[1;32m     99\u001b[0m start_symbol \u001b[38;5;241m=\u001b[39m pick[\u001b[38;5;241m1\u001b[39m]\n\u001b[1;32m    100\u001b[0m \u001b[38;5;28;01mreturn\u001b[39;00m start_symbol\n",
      "\u001b[0;31mIndexError\u001b[0m: list index out of range"
     ]
    }
   ],
   "source": [
    "set_size, set_num = 2, 6\n",
    "symbols_sets = algo.data.read.get_high_corr_symbols_set_of(algo.data.read.df_gemini_202309, 10, set_size, set_num, symbols_pool, high_corr=True)\n",
    "symbols_sets"
   ]
  },
  {
   "cell_type": "code",
   "execution_count": null,
   "id": "ba5d4a76-0fee-46f6-84d3-49b8473e4d53",
   "metadata": {
    "execution": {
     "iopub.status.busy": "2023-10-27T02:10:11.534372Z",
     "iopub.status.idle": "2023-10-27T02:10:11.534549Z",
     "shell.execute_reply": "2023-10-27T02:10:11.534480Z",
     "shell.execute_reply.started": "2023-10-27T02:10:11.534473Z"
    }
   },
   "outputs": [],
   "source": [
    "set_size, set_num = 2, 6\n",
    "symbols_sets_low_corr = algo.data.read.get_high_corr_symbols_set_of(algo.data.read.df_gemini_202309, 10, set_size, set_num, symbols_pool, high_corr=False)\n",
    "symbols_sets_low_corr"
   ]
  },
  {
   "cell_type": "code",
   "execution_count": null,
   "id": "5bc0df9c-f486-4285-aaed-fdbc56afd267",
   "metadata": {},
   "outputs": [],
   "source": []
  },
  {
   "cell_type": "markdown",
   "id": "c52db2b2-b65d-4591-894a-8316405ad84c",
   "metadata": {
    "tags": []
   },
   "source": [
    "# Solve the minimal predictability condition"
   ]
  },
  {
   "cell_type": "code",
   "execution_count": 31,
   "id": "4c2aff78-9fb5-4f77-9274-4278a62b3daa",
   "metadata": {
    "execution": {
     "iopub.execute_input": "2023-10-27T02:10:22.445449Z",
     "iopub.status.busy": "2023-10-27T02:10:22.445191Z",
     "iopub.status.idle": "2023-10-27T02:10:22.460125Z",
     "shell.execute_reply": "2023-10-27T02:10:22.459194Z",
     "shell.execute_reply.started": "2023-10-27T02:10:22.445431Z"
    }
   },
   "outputs": [
    {
     "data": {
      "text/plain": [
       "<module 'algo.minimal_predictability.calculate' from '/home/junlim/projects/mean_reversal/algo/minimal_predictability/calculate.py'>"
      ]
     },
     "execution_count": 31,
     "metadata": {},
     "output_type": "execute_result"
    }
   ],
   "source": [
    "import algo.minimal_predictability.calculate\n",
    "importlib.reload(algo.minimal_predictability.calculate)"
   ]
  },
  {
   "cell_type": "markdown",
   "id": "5cdf4c2a-ebfd-4b04-a403-1ad354b0a9a1",
   "metadata": {},
   "source": [
    "# Trading calculations"
   ]
  },
  {
   "cell_type": "code",
   "execution_count": 32,
   "id": "cbfdce48-4fe1-4fb6-b991-63216e2a8a37",
   "metadata": {
    "execution": {
     "iopub.execute_input": "2023-10-27T02:10:24.600283Z",
     "iopub.status.busy": "2023-10-27T02:10:24.599922Z",
     "iopub.status.idle": "2023-10-27T02:10:24.614775Z",
     "shell.execute_reply": "2023-10-27T02:10:24.614260Z",
     "shell.execute_reply.started": "2023-10-27T02:10:24.600257Z"
    }
   },
   "outputs": [
    {
     "data": {
      "text/plain": [
       "<module 'algo.statarbitrage.bband' from '/home/junlim/projects/mean_reversal/algo/statarbitrage/bband.py'>"
      ]
     },
     "execution_count": 32,
     "metadata": {},
     "output_type": "execute_result"
    }
   ],
   "source": [
    "import algo.statarbitrage.bband\n",
    "importlib.reload(algo.statarbitrage.bband)"
   ]
  },
  {
   "cell_type": "markdown",
   "id": "5f0e50fd-9d27-4508-915d-e7d0f007601a",
   "metadata": {},
   "source": [
    "# Rolling-based Portfolio Construction"
   ]
  },
  {
   "cell_type": "code",
   "execution_count": 33,
   "id": "7b1c6b38-8b29-4e57-89af-f28dfb808c3c",
   "metadata": {
    "execution": {
     "iopub.execute_input": "2023-10-27T02:10:32.506368Z",
     "iopub.status.busy": "2023-10-27T02:10:32.505730Z",
     "iopub.status.idle": "2023-10-27T02:10:32.511673Z",
     "shell.execute_reply": "2023-10-27T02:10:32.511219Z",
     "shell.execute_reply.started": "2023-10-27T02:10:32.506342Z"
    }
   },
   "outputs": [
    {
     "data": {
      "text/plain": [
       "<module 'algo.research.simulation' from '/home/junlim/projects/mean_reversal/algo/research/simulation.py'>"
      ]
     },
     "execution_count": 33,
     "metadata": {},
     "output_type": "execute_result"
    }
   ],
   "source": [
    "import algo.research.simulation\n",
    "importlib.reload(algo.research.simulation)"
   ]
  },
  {
   "cell_type": "code",
   "execution_count": 34,
   "id": "1ee1db9f-6036-4d23-bbeb-851c41c2c15b",
   "metadata": {
    "execution": {
     "iopub.execute_input": "2023-10-27T02:10:34.318867Z",
     "iopub.status.busy": "2023-10-27T02:10:34.317951Z",
     "iopub.status.idle": "2023-10-27T02:10:34.339187Z",
     "shell.execute_reply": "2023-10-27T02:10:34.338324Z",
     "shell.execute_reply.started": "2023-10-27T02:10:34.318818Z"
    }
   },
   "outputs": [
    {
     "ename": "NameError",
     "evalue": "name 'symbols_sets' is not defined",
     "output_type": "error",
     "traceback": [
      "\u001b[0;31m---------------------------------------------------------------------------\u001b[0m",
      "\u001b[0;31mNameError\u001b[0m                                 Traceback (most recent call last)",
      "Cell \u001b[0;32mIn[34], line 3\u001b[0m\n\u001b[1;32m      1\u001b[0m bband_trading_param \u001b[38;5;241m=\u001b[39m algo\u001b[38;5;241m.\u001b[39mstatarbitrage\u001b[38;5;241m.\u001b[39mbband\u001b[38;5;241m.\u001b[39mBBandTradingParam(\u001b[38;5;241m60\u001b[39m, \u001b[38;5;241m2.0\u001b[39m)\n\u001b[1;32m      2\u001b[0m stat_arbitrage_trading_param \u001b[38;5;241m=\u001b[39m algo\u001b[38;5;241m.\u001b[39mresearch\u001b[38;5;241m.\u001b[39msimulation\u001b[38;5;241m.\u001b[39mStatArbitrageTradingParam(\u001b[38;5;241m10\u001b[39m, \u001b[38;5;241m180\u001b[39m, \u001b[38;5;241m120\u001b[39m, bband_trading_param)\n\u001b[0;32m----> 3\u001b[0m \u001b[38;5;28;01mfor\u001b[39;00m symbols \u001b[38;5;129;01min\u001b[39;00m \u001b[43msymbols_sets\u001b[49m[:]:\n\u001b[1;32m      4\u001b[0m     \u001b[38;5;28mprint\u001b[39m(\u001b[38;5;124mf\u001b[39m\u001b[38;5;124m'\u001b[39m\u001b[38;5;124msymbols: \u001b[39m\u001b[38;5;132;01m{\u001b[39;00msymbols\u001b[38;5;132;01m}\u001b[39;00m\u001b[38;5;124m'\u001b[39m)\n\u001b[1;32m      5\u001b[0m     values_list \u001b[38;5;241m=\u001b[39m algo\u001b[38;5;241m.\u001b[39mresearch\u001b[38;5;241m.\u001b[39msimulation\u001b[38;5;241m.\u001b[39mget_trading_result(algo\u001b[38;5;241m.\u001b[39mdata\u001b[38;5;241m.\u001b[39mread\u001b[38;5;241m.\u001b[39mdf_gemini_202310, symbols, stat_arbitrage_trading_param, if_evecs\u001b[38;5;241m=\u001b[39m\u001b[38;5;28;01mTrue\u001b[39;00m)\n",
      "\u001b[0;31mNameError\u001b[0m: name 'symbols_sets' is not defined"
     ]
    }
   ],
   "source": [
    "bband_trading_param = algo.statarbitrage.bband.BBandTradingParam(60, 2.0)\n",
    "stat_arbitrage_trading_param = algo.research.simulation.StatArbitrageTradingParam(10, 180, 120, bband_trading_param)\n",
    "for symbols in symbols_sets[:]:\n",
    "    print(f'symbols: {symbols}')\n",
    "    values_list = algo.research.simulation.get_trading_result(algo.data.read.df_gemini_202310, symbols, stat_arbitrage_trading_param, if_evecs=True)\n",
    "    values_concat = pd.concat(values_list)\n",
    "    ax = values_concat.profit_raw.cumsum().plot(figsize=(12, 1))\n",
    "    ymin, ymax = 0, values_concat.profit_raw.cumsum().max()\n",
    "    \n",
    "    #ax.vlines(x=list(df_rolling_wgt_resampled.index), ymin=ymin, ymax=ymax, color='g', linestyles='dashed', label='rebalance')\n",
    "    #ax.vlines(x=list(values_concat[values_concat.position_changed == +1].index), ymin=ymin, ymax=ymax, color='b', linestyles='dashed', label='enter')\n",
    "    #ax.vlines(x=list(values_concat[values_concat.position_changed == -1].index), ymin=ymin, ymax=ymax, color='r', linestyles='solid', label='leave')\n",
    "    \n",
    "    plt.show()"
   ]
  },
  {
   "cell_type": "code",
   "execution_count": null,
   "id": "7d480b8f-6303-41d8-b926-2c6092ee12a3",
   "metadata": {},
   "outputs": [],
   "source": []
  },
  {
   "cell_type": "code",
   "execution_count": null,
   "id": "8451aa43-11fd-4a6a-b0cc-ea93d0761606",
   "metadata": {},
   "outputs": [],
   "source": []
  },
  {
   "cell_type": "code",
   "execution_count": null,
   "id": "2a555e46-fa53-405d-bee7-12727814d9ac",
   "metadata": {},
   "outputs": [],
   "source": []
  },
  {
   "cell_type": "code",
   "execution_count": null,
   "id": "dd1d4bb5-47f9-4d77-98ba-21316b1d871a",
   "metadata": {},
   "outputs": [],
   "source": []
  }
 ],
 "metadata": {
  "kernelspec": {
   "display_name": "Python 3 (ipykernel)",
   "language": "python",
   "name": "python3"
  },
  "language_info": {
   "codemirror_mode": {
    "name": "ipython",
    "version": 3
   },
   "file_extension": ".py",
   "mimetype": "text/x-python",
   "name": "python",
   "nbconvert_exporter": "python",
   "pygments_lexer": "ipython3",
   "version": "3.10.12"
  }
 },
 "nbformat": 4,
 "nbformat_minor": 5
}
