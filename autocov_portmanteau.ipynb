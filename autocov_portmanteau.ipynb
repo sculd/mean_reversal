{
 "cells": [
  {
   "cell_type": "markdown",
   "id": "280e0001-d227-411f-96d0-322a3e199f8d",
   "metadata": {
    "tags": []
   },
   "source": [
    "# import, data read"
   ]
  },
  {
   "cell_type": "code",
   "execution_count": 4,
   "id": "a24d5847-9776-4647-a08c-7ebdbfe4999f",
   "metadata": {
    "tags": []
   },
   "outputs": [],
   "source": [
    "import pandas as pd, numpy as np\n",
    "import scipy\n",
    "import matplotlib.pyplot as plt\n",
    "from scipy.linalg import sqrtm"
   ]
  },
  {
   "cell_type": "code",
   "execution_count": 5,
   "id": "748c5278-5b17-4f88-815b-1dcac3eecb6b",
   "metadata": {
    "tags": []
   },
   "outputs": [],
   "source": [
    "df = pd.read_csv('market_data_binance.by_minute_ALL_2022-09-19T04:00:00Z_2022-09-20T03:59:00Z.csv')\n",
    "df['time'] = pd.to_datetime(df['timestamp'],unit='s')\n",
    "df_close = df.pivot(index='time', columns='symbol', values='close').resample('10min').last()"
   ]
  },
  {
   "cell_type": "code",
   "execution_count": 74,
   "id": "668a21d6-4451-4abe-a0d8-547f42f75c50",
   "metadata": {
    "tags": []
   },
   "outputs": [],
   "source": [
    "symbols = ['YFIIUSDT', 'ETHUSDT', 'PAXGUSDT']  # , 'BIFIUSDT', 'BNBUSDT'\n",
    "df_close_symbols = df_close[symbols]"
   ]
  },
  {
   "cell_type": "code",
   "execution_count": null,
   "id": "3381b6ed-0b46-4421-b495-64edc180f655",
   "metadata": {},
   "outputs": [],
   "source": []
  },
  {
   "cell_type": "code",
   "execution_count": null,
   "id": "f158b8b5-8eb8-4165-bf93-4d2cf7fa4b22",
   "metadata": {},
   "outputs": [],
   "source": []
  },
  {
   "cell_type": "markdown",
   "id": "bb1167a1-5987-4382-965e-07a69c3c9b0a",
   "metadata": {},
   "source": [
    "# portmanteau"
   ]
  },
  {
   "cell_type": "code",
   "execution_count": 68,
   "id": "fcefa463-e791-489e-89f4-b7ffe7c85f3e",
   "metadata": {
    "tags": []
   },
   "outputs": [],
   "source": [
    "def calc_autocov_matrix(arr, lag):\n",
    "    m = arr.shape[0]  # sample size.\n",
    "    return 1 / (m - lag - 1) * (arr[lag:] - np.nanmean(arr[lag:], axis=0)).T @ (arr[:m-lag] - np.nanmean(arr[:m-lag], axis=0))"
   ]
  },
  {
   "cell_type": "code",
   "execution_count": 27,
   "id": "3510ae4c-7dbb-461d-aeae-c08822c0d7a0",
   "metadata": {
    "tags": []
   },
   "outputs": [],
   "source": [
    "def autocov_matrix_calc(arr, lag):\n",
    "    # sample size.\n",
    "    m = arr.shape[0]\n",
    "    arr_demeaned = arr - np.nanmean(arr, axis=0)\n",
    "    return 1 / (m - lag - 1) * arr_demeaned[lag:].T @ arr_demeaned[:-lag]; "
   ]
  },
  {
   "cell_type": "code",
   "execution_count": 55,
   "id": "00f30ddd-ee1c-48f4-b5bf-0995b4566594",
   "metadata": {
    "tags": []
   },
   "outputs": [],
   "source": [
    "def portmanteau_gep(df, lags):\n",
    "    assert lags > 0\n",
    "    rho = df.cov().values\n",
    "    rho_inv_sqrt = np.linalg.inv(sqrtm(rho))\n",
    "\n",
    "    pmt_matrix = 0;\n",
    "    for i in range(1, lags+1):\n",
    "        autocov = calc_autocov_matrix(df.values, i)\n",
    "        pmt_matrix += np.square(rho_inv_sqrt @ autocov @ rho_inv_sqrt)\n",
    "    pmt_matrix /= lags;\n",
    "\n",
    "    eigenvalues, eigenvectors = np.linalg.eig(pmt_matrix)\n",
    "    asc = np.argsort(eigenvalues)\n",
    "    eigenvalues, eigenvectors = eigenvalues[asc], eigenvectors[:, asc]\n",
    "\n",
    "    wgts = rho_inv_sqrt @ eigenvectors\n",
    "\n",
    "    return np.real(eigenvalues), np.real(wgts)"
   ]
  },
  {
   "cell_type": "code",
   "execution_count": null,
   "id": "1a60fa41-5998-4e1f-93f0-925c6d573b3a",
   "metadata": {},
   "outputs": [],
   "source": []
  },
  {
   "cell_type": "code",
   "execution_count": null,
   "id": "87f2a3fb-39cb-4258-8bc1-e12c37e76915",
   "metadata": {},
   "outputs": [],
   "source": []
  },
  {
   "cell_type": "code",
   "execution_count": 75,
   "id": "7d9f2a45-b27c-4ac1-a823-78df742f44c6",
   "metadata": {
    "tags": []
   },
   "outputs": [
    {
     "data": {
      "text/html": [
       "<div>\n",
       "<style scoped>\n",
       "    .dataframe tbody tr th:only-of-type {\n",
       "        vertical-align: middle;\n",
       "    }\n",
       "\n",
       "    .dataframe tbody tr th {\n",
       "        vertical-align: top;\n",
       "    }\n",
       "\n",
       "    .dataframe thead th {\n",
       "        text-align: right;\n",
       "    }\n",
       "</style>\n",
       "<table border=\"1\" class=\"dataframe\">\n",
       "  <thead>\n",
       "    <tr style=\"text-align: right;\">\n",
       "      <th>symbol</th>\n",
       "      <th>YFIIUSDT</th>\n",
       "      <th>ETHUSDT</th>\n",
       "      <th>PAXGUSDT</th>\n",
       "    </tr>\n",
       "    <tr>\n",
       "      <th>time</th>\n",
       "      <th></th>\n",
       "      <th></th>\n",
       "      <th></th>\n",
       "    </tr>\n",
       "  </thead>\n",
       "  <tbody>\n",
       "    <tr>\n",
       "      <th>2022-09-19 04:00:00</th>\n",
       "      <td>834.2</td>\n",
       "      <td>1300.92</td>\n",
       "      <td>1659.0</td>\n",
       "    </tr>\n",
       "    <tr>\n",
       "      <th>2022-09-19 04:10:00</th>\n",
       "      <td>834.6</td>\n",
       "      <td>1303.61</td>\n",
       "      <td>1659.0</td>\n",
       "    </tr>\n",
       "    <tr>\n",
       "      <th>2022-09-19 04:20:00</th>\n",
       "      <td>835.4</td>\n",
       "      <td>1303.85</td>\n",
       "      <td>1660.0</td>\n",
       "    </tr>\n",
       "    <tr>\n",
       "      <th>2022-09-19 04:30:00</th>\n",
       "      <td>835.0</td>\n",
       "      <td>1304.09</td>\n",
       "      <td>1659.0</td>\n",
       "    </tr>\n",
       "    <tr>\n",
       "      <th>2022-09-19 04:40:00</th>\n",
       "      <td>837.4</td>\n",
       "      <td>1305.19</td>\n",
       "      <td>1659.0</td>\n",
       "    </tr>\n",
       "    <tr>\n",
       "      <th>...</th>\n",
       "      <td>...</td>\n",
       "      <td>...</td>\n",
       "      <td>...</td>\n",
       "    </tr>\n",
       "    <tr>\n",
       "      <th>2022-09-20 03:10:00</th>\n",
       "      <td>879.8</td>\n",
       "      <td>1349.10</td>\n",
       "      <td>1666.0</td>\n",
       "    </tr>\n",
       "    <tr>\n",
       "      <th>2022-09-20 03:20:00</th>\n",
       "      <td>874.4</td>\n",
       "      <td>1344.29</td>\n",
       "      <td>1666.0</td>\n",
       "    </tr>\n",
       "    <tr>\n",
       "      <th>2022-09-20 03:30:00</th>\n",
       "      <td>879.8</td>\n",
       "      <td>1349.84</td>\n",
       "      <td>1667.0</td>\n",
       "    </tr>\n",
       "    <tr>\n",
       "      <th>2022-09-20 03:40:00</th>\n",
       "      <td>880.4</td>\n",
       "      <td>1353.94</td>\n",
       "      <td>1667.0</td>\n",
       "    </tr>\n",
       "    <tr>\n",
       "      <th>2022-09-20 03:50:00</th>\n",
       "      <td>883.4</td>\n",
       "      <td>1354.29</td>\n",
       "      <td>1667.0</td>\n",
       "    </tr>\n",
       "  </tbody>\n",
       "</table>\n",
       "<p>144 rows × 3 columns</p>\n",
       "</div>"
      ],
      "text/plain": [
       "symbol               YFIIUSDT  ETHUSDT  PAXGUSDT\n",
       "time                                            \n",
       "2022-09-19 04:00:00     834.2  1300.92    1659.0\n",
       "2022-09-19 04:10:00     834.6  1303.61    1659.0\n",
       "2022-09-19 04:20:00     835.4  1303.85    1660.0\n",
       "2022-09-19 04:30:00     835.0  1304.09    1659.0\n",
       "2022-09-19 04:40:00     837.4  1305.19    1659.0\n",
       "...                       ...      ...       ...\n",
       "2022-09-20 03:10:00     879.8  1349.10    1666.0\n",
       "2022-09-20 03:20:00     874.4  1344.29    1666.0\n",
       "2022-09-20 03:30:00     879.8  1349.84    1667.0\n",
       "2022-09-20 03:40:00     880.4  1353.94    1667.0\n",
       "2022-09-20 03:50:00     883.4  1354.29    1667.0\n",
       "\n",
       "[144 rows x 3 columns]"
      ]
     },
     "execution_count": 75,
     "metadata": {},
     "output_type": "execute_result"
    }
   ],
   "source": [
    "df_close_symbols"
   ]
  },
  {
   "cell_type": "code",
   "execution_count": 76,
   "id": "5cea65b7-21a6-4959-ad41-ef5df9af8fbc",
   "metadata": {
    "tags": []
   },
   "outputs": [
    {
     "data": {
      "text/plain": [
       "(array([0.55945359, 0.69833252, 0.86015399]),\n",
       " array([[ 0.03981983,  0.16496209, -0.08249003],\n",
       "        [-0.10793552, -0.0994292 ,  0.09367988],\n",
       "        [ 0.55981155,  0.0763796 , -0.08819786]]))"
      ]
     },
     "execution_count": 76,
     "metadata": {},
     "output_type": "execute_result"
    }
   ],
   "source": [
    "portmanteau_gep(df_close_symbols, 1)"
   ]
  },
  {
   "cell_type": "code",
   "execution_count": 77,
   "id": "6fefe3fb-6074-4e4c-bc5f-bd2241f3e2d3",
   "metadata": {
    "tags": []
   },
   "outputs": [
    {
     "data": {
      "text/html": [
       "<div>\n",
       "<style scoped>\n",
       "    .dataframe tbody tr th:only-of-type {\n",
       "        vertical-align: middle;\n",
       "    }\n",
       "\n",
       "    .dataframe tbody tr th {\n",
       "        vertical-align: top;\n",
       "    }\n",
       "\n",
       "    .dataframe thead th {\n",
       "        text-align: right;\n",
       "    }\n",
       "</style>\n",
       "<table border=\"1\" class=\"dataframe\">\n",
       "  <thead>\n",
       "    <tr style=\"text-align: right;\">\n",
       "      <th>symbol</th>\n",
       "      <th>YFIIUSDT</th>\n",
       "      <th>ETHUSDT</th>\n",
       "      <th>PAXGUSDT</th>\n",
       "    </tr>\n",
       "    <tr>\n",
       "      <th>symbol</th>\n",
       "      <th></th>\n",
       "      <th></th>\n",
       "      <th></th>\n",
       "    </tr>\n",
       "  </thead>\n",
       "  <tbody>\n",
       "    <tr>\n",
       "      <th>YFIIUSDT</th>\n",
       "      <td>369.217708</td>\n",
       "      <td>547.929429</td>\n",
       "      <td>78.480051</td>\n",
       "    </tr>\n",
       "    <tr>\n",
       "      <th>ETHUSDT</th>\n",
       "      <td>547.929429</td>\n",
       "      <td>900.177659</td>\n",
       "      <td>137.954222</td>\n",
       "    </tr>\n",
       "    <tr>\n",
       "      <th>PAXGUSDT</th>\n",
       "      <td>78.480051</td>\n",
       "      <td>137.954222</td>\n",
       "      <td>24.920697</td>\n",
       "    </tr>\n",
       "  </tbody>\n",
       "</table>\n",
       "</div>"
      ],
      "text/plain": [
       "symbol      YFIIUSDT     ETHUSDT    PAXGUSDT\n",
       "symbol                                      \n",
       "YFIIUSDT  369.217708  547.929429   78.480051\n",
       "ETHUSDT   547.929429  900.177659  137.954222\n",
       "PAXGUSDT   78.480051  137.954222   24.920697"
      ]
     },
     "execution_count": 77,
     "metadata": {},
     "output_type": "execute_result"
    }
   ],
   "source": [
    "(df_close_symbols - df_close_symbols.mean(0)).cov()"
   ]
  },
  {
   "cell_type": "code",
   "execution_count": null,
   "id": "b1207651-e0a0-4e4f-91fb-865bc98769c2",
   "metadata": {},
   "outputs": [],
   "source": []
  },
  {
   "cell_type": "code",
   "execution_count": null,
   "id": "7190555b-135f-49f5-88ad-4adf851558b0",
   "metadata": {},
   "outputs": [],
   "source": []
  },
  {
   "cell_type": "code",
   "execution_count": 78,
   "id": "b8e1b815-b6d3-4ffd-ba2d-c28442ded807",
   "metadata": {
    "tags": []
   },
   "outputs": [
    {
     "data": {
      "text/plain": [
       "(array([0.27972679, 0.34916626, 0.430077  ]),\n",
       " array([[ 0.03981983,  0.16496209, -0.08249003],\n",
       "        [-0.10793552, -0.0994292 ,  0.09367988],\n",
       "        [ 0.55981155,  0.0763796 , -0.08819786]]))"
      ]
     },
     "execution_count": 78,
     "metadata": {},
     "output_type": "execute_result"
    }
   ],
   "source": [
    "df = df_close_symbols\n",
    "lags = 2\n",
    "\n",
    "#df_normalized = df - df.mean(0);\n",
    "rho = df.cov().values\n",
    "rho_inv_sqrt = np.linalg.inv(sqrtm(rho))\n",
    "\n",
    "pmt_matrix = 0;\n",
    "for i in range(1, lags):\n",
    "    autocov = calc_autocov_matrix(df.values, i)\n",
    "    pmt_matrix += np.square(rho_inv_sqrt @ autocov @ rho_inv_sqrt)\n",
    "pmt_matrix /= lags;\n",
    "\n",
    "eigenvalues, eigenvectors = np.linalg.eig(pmt_matrix)\n",
    "asc = np.argsort(eigenvalues)\n",
    "eigenvalues, eigenvectors = eigenvalues[asc], eigenvectors[:, asc]\n",
    "\n",
    "wgts = rho_inv_sqrt @ eigenvectors\n",
    "\n",
    "np.real(eigenvalues), np.real(wgts)"
   ]
  },
  {
   "cell_type": "code",
   "execution_count": null,
   "id": "bcc16752-de85-4d70-a176-6a1e28831e20",
   "metadata": {},
   "outputs": [],
   "source": []
  },
  {
   "cell_type": "code",
   "execution_count": 79,
   "id": "da8bdff7-002a-42df-85f8-3d9b590eec01",
   "metadata": {
    "tags": []
   },
   "outputs": [
    {
     "data": {
      "text/plain": [
       "array([[ 0.03981983,  0.16496209, -0.08249003],\n",
       "       [-0.10793552, -0.0994292 ,  0.09367988],\n",
       "       [ 0.55981155,  0.0763796 , -0.08819786]])"
      ]
     },
     "execution_count": 79,
     "metadata": {},
     "output_type": "execute_result"
    }
   ],
   "source": [
    "wgts"
   ]
  },
  {
   "cell_type": "code",
   "execution_count": 92,
   "id": "900984f7-099a-4da6-bef9-16b9132acd2a",
   "metadata": {
    "tags": []
   },
   "outputs": [
    {
     "data": {
      "text/plain": [
       "0.7075669068199595"
      ]
     },
     "execution_count": 92,
     "metadata": {},
     "output_type": "execute_result"
    }
   ],
   "source": [
    "sum(abs(wgts[:,0]))"
   ]
  },
  {
   "cell_type": "code",
   "execution_count": null,
   "id": "741933a7-2079-4c18-89bb-8970b3e611f1",
   "metadata": {},
   "outputs": [],
   "source": []
  },
  {
   "cell_type": "code",
   "execution_count": null,
   "id": "2bc7b690-d2fe-406e-9446-89e9480beebf",
   "metadata": {},
   "outputs": [],
   "source": []
  },
  {
   "cell_type": "code",
   "execution_count": null,
   "id": "2d064368-7c99-4a70-ac35-85aefeaf5361",
   "metadata": {},
   "outputs": [],
   "source": []
  },
  {
   "cell_type": "code",
   "execution_count": 80,
   "id": "7d1eb223-0cc4-4405-bd91-e16180e10ad5",
   "metadata": {
    "tags": []
   },
   "outputs": [
    {
     "data": {
      "text/plain": [
       "array([2, 1, 0])"
      ]
     },
     "execution_count": 80,
     "metadata": {},
     "output_type": "execute_result"
    }
   ],
   "source": [
    "asc"
   ]
  },
  {
   "cell_type": "code",
   "execution_count": null,
   "id": "3998fb4b-6a1a-4811-98b8-e7266d3bd2bb",
   "metadata": {},
   "outputs": [],
   "source": []
  },
  {
   "cell_type": "code",
   "execution_count": 81,
   "id": "72959367-71d2-4962-8fc1-c446519a2db7",
   "metadata": {
    "tags": []
   },
   "outputs": [
    {
     "data": {
      "text/plain": [
       "array([0.27972679, 0.34916626, 0.430077  ])"
      ]
     },
     "execution_count": 81,
     "metadata": {},
     "output_type": "execute_result"
    }
   ],
   "source": [
    "eigenvalues"
   ]
  },
  {
   "cell_type": "code",
   "execution_count": 82,
   "id": "e86b569c-0ac0-48ec-bcd9-bb6a97eb4ace",
   "metadata": {
    "tags": []
   },
   "outputs": [
    {
     "data": {
      "text/plain": [
       "array([[-0.1221195 ,  0.99655103,  0.02584774],\n",
       "       [-0.01997348, -0.08134926,  0.99846494],\n",
       "       [ 0.99231441,  0.01638136,  0.04898632]])"
      ]
     },
     "execution_count": 82,
     "metadata": {},
     "output_type": "execute_result"
    }
   ],
   "source": [
    "eigenvectors"
   ]
  },
  {
   "cell_type": "code",
   "execution_count": null,
   "id": "bdc15be8-79f2-4ab9-ba27-3a2b75157254",
   "metadata": {},
   "outputs": [],
   "source": []
  },
  {
   "cell_type": "code",
   "execution_count": null,
   "id": "03bb38bc-4513-48d7-bdca-8c5ddc5e2a42",
   "metadata": {},
   "outputs": [],
   "source": []
  },
  {
   "cell_type": "code",
   "execution_count": null,
   "id": "121e57eb-3cf7-4ce0-a93f-3a8945d8c4de",
   "metadata": {},
   "outputs": [],
   "source": []
  }
 ],
 "metadata": {
  "kernelspec": {
   "display_name": "Python 3 (ipykernel)",
   "language": "python",
   "name": "python3"
  },
  "language_info": {
   "codemirror_mode": {
    "name": "ipython",
    "version": 3
   },
   "file_extension": ".py",
   "mimetype": "text/x-python",
   "name": "python",
   "nbconvert_exporter": "python",
   "pygments_lexer": "ipython3",
   "version": "3.10.6"
  }
 },
 "nbformat": 4,
 "nbformat_minor": 5
}
